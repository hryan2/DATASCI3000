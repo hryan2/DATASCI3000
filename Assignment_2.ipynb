{
 "cells": [
  {
   "attachments": {},
   "cell_type": "markdown",
   "metadata": {},
   "source": [
    "# Assignment 02\n",
    "\n",
    "\n",
    "### Maximum Likelihood\n",
    "\n",
    "The poisson distribution https://en.wikipedia.org/wiki/Poisson_distribution is a discrete probability distribution often used to describe count-based data, like how many snowflakes fall in a day.\n",
    "\n",
    "If we have count data $y$ that are influenced by a covariate or feature $x$, we can use the maximum likelihood principle to develop a regression model that estimates the mean of $Y$ given $X = x$.\n",
    "\n",
    "### Follow These Instructions\n",
    "\n",
    "Once you are finished, ensure to complete the following steps.\n",
    "\n",
    "1.  Restart your kernel by clicking 'Kernel' > 'Restart & Run All'.\n",
    "\n",
    "2.  Fix any errors which result from this.\n",
    "\n",
    "3.  Repeat steps 1. and 2. until your notebook runs without errors.\n",
    "\n",
    "4.  Submit your completed notebook to OWL by the deadline.\n"
   ]
  },
  {
   "cell_type": "code",
   "execution_count": 1,
   "metadata": {},
   "outputs": [],
   "source": [
    "#Packages for this assignment\n",
    "import numpy as np\n",
    "import matplotlib.pyplot as plt\n",
    "import pandas as pd\n",
    "from scipy.optimize import minimize\n",
    "from sklearn import linear_model"
   ]
  },
  {
   "attachments": {},
   "cell_type": "markdown",
   "metadata": {},
   "source": [
    "### Question 1: /10 Marks\n",
    "\n",
    "The negative log likelihood for a Poisson random variable is\n",
    "\n",
    "$$\\ell(\\lambda; \\mathbf{y}) = -\\sum_{i=1}^N\\Bigg(   y_{i}\\cdot \\ln(\\lambda) - \\lambda - \\ln(y_i!) \\Bigg)$$\n",
    "\n",
    "Here, $\\mathbf{y}$ is a vector of counts and $\\lambda$ is a scalar value.\n",
    "\n",
    "Write a function called `poissonNegLogLikelihood` that takes a vector of counts $\\mathbf{y}$ and a parameter $\\lambda$ and returns the negative log likelihood.  The $\\sum_{i} \\ln(y!)$ does not affect the location of the maximum, and so you can omit the $ \\ln(y!)$ in your function.\n",
    "\n",
    "Test your function by calling it with `lam = 1.3` and `y=np.array([2,1,0,0])`.\n",
    "\n",
    "What happens when you call the function when `lam=np.array([1,0.5,1,3])` and  `y=np.array([2,1,0,0])`? \n",
    "\n",
    "Answer the following below in markdown: What happens when you set an element of lam to 0 or a negative number and why? \n"
   ]
  },
  {
   "attachments": {},
   "cell_type": "markdown",
   "metadata": {},
   "source": [
    "#### Written Answer:\n",
    "\n",
    "Your answer here."
   ]
  },
  {
   "cell_type": "code",
   "execution_count": 2,
   "metadata": {},
   "outputs": [],
   "source": [
    "def poissonNegLogLikelihood(lam,y):\n",
    "    \n",
    "    neg_log_lik = -np.sum(y * np.log(lam)) - -np.sum(lam)\n",
    "    \n",
    "    return neg_log_lik"
   ]
  },
  {
   "cell_type": "code",
   "execution_count": 3,
   "metadata": {},
   "outputs": [
    {
     "name": "stdout",
     "output_type": "stream",
     "text": [
      "The negative log likelihood is: 0.5129072065975269\n"
     ]
    }
   ],
   "source": [
    "#Testing\n",
    "negLL = poissonNegLogLikelihood(1.3, np.array([2, 1, 0, 0]))\n",
    "print(f'The negative log likelihood is: {negLL}')"
   ]
  },
  {
   "cell_type": "code",
   "execution_count": 4,
   "metadata": {},
   "outputs": [
    {
     "name": "stdout",
     "output_type": "stream",
     "text": [
      "The negative log likelihood is: 6.193147180559945\n"
     ]
    }
   ],
   "source": [
    "#What happens\n",
    "negLL = poissonNegLogLikelihood(np.array([1, 0.5, 1, 3]), np.array([2, 1, 0, 0]))\n",
    "print(f'The negative log likelihood is: {negLL}')"
   ]
  },
  {
   "attachments": {},
   "cell_type": "markdown",
   "metadata": {},
   "source": [
    "**Answer**: You end up with a 'nan' result(when using negatives) or without a result due to the division of 0(when using 0).  This is because when the way numpy uses the np.log function it requires numbers from (0, Inf] since it uses the inverse of the exp() function."
   ]
  },
  {
   "attachments": {},
   "cell_type": "markdown",
   "metadata": {},
   "source": [
    "---\n",
    "\n",
    "### Question 2: /10 Marks\n",
    "\n",
    "Write a function called `poissonRegressionNegLogLikelihood` that takes as arguments a vector $\\mathbf{y}$ of counts, a design matrix $\\mathbf{X}$ of features for each count, and a vector $\\mathbf{\\beta}$ of parameters. The function should return the negative log likelihood of this dataset, assuming that each element of  $\\mathbf{y}$ is independent and Poisson distributed with parameter $\\lambda = \\exp(\\mathbf{X}\\beta)$.\n",
    "\n",
    "Hint: You can use `poissonNegLogLikelihood` in this answer!\n",
    "Test your function by calling it with \n",
    "* `b=np.array([1,2])`\n",
    "* `X=np.array([[1,2,3],[2,3,1]]).T`\n",
    "* `y=np.array([0,2,10])`\n"
   ]
  },
  {
   "cell_type": "code",
   "execution_count": 5,
   "metadata": {},
   "outputs": [],
   "source": [
    "def poissonRegressionNegLogLikelihood(b, X, y):\n",
    "    #Enter the expression for lambda as shown above!\n",
    "    lam = np.exp(X @ b)\n",
    "    # Use poissonNegLogLikelihood to compute the likelihood\n",
    "    neg_log_lik = poissonNegLogLikelihood(lam, y)\n",
    "    return neg_log_lik"
   ]
  },
  {
   "cell_type": "code",
   "execution_count": 6,
   "metadata": {},
   "outputs": [
    {
     "name": "stdout",
     "output_type": "stream",
     "text": [
      "The negative log likelihood is: 3211.7843052468816\n"
     ]
    }
   ],
   "source": [
    "#Testing\n",
    "regNegLL = poissonRegressionNegLogLikelihood(np.array([1,2]), np.array([[1,2,3],[2,3,1]]).T, np.array([0,2,10]))\n",
    "print(f'The negative log likelihood is: {regNegLL}')"
   ]
  },
  {
   "attachments": {},
   "cell_type": "markdown",
   "metadata": {},
   "source": [
    "### Question 3: /10 Marks\n",
    "\n",
    "a) In `poissonRegressionNegLogLikelihood`, why did we apply the exponential function to $\\mathbf{X}\\beta$?  Hint: Can an exponential ever be negative?\n",
    "\n",
    "b) What might have happened had we just passed $\\lambda = \\mathbf{X}\\beta$?\n",
    "\n",
    "Answer parts a) and b) below in this cell.  Write no more than 2 sentences per answer! \n",
    "\n",
    "---\n",
    "\n",
    "\n",
    "a) We applied the exponential function to 𝐗𝛽 because otherwise when using np.log(lam) in the original regression algorithm, we would end up with a different and incorrect lam value given the two inputs\n",
    "\n",
    "b) What could have happened if we just passed 𝜆=𝐗𝛽 instead of using the exponential function is that we might end up with a negative number or vastly smaller and still incorrect result since the lam value would be incorrect as described in a)\n"
   ]
  },
  {
   "attachments": {},
   "cell_type": "markdown",
   "metadata": {},
   "source": [
    "### Question 4: /5 Marks\n",
    "\n",
    "Write a function called `modelPrediction` which accepts as its first argument a vector of coefficents $\\beta$ and a design matrix $\\mathbf{X}$.  The function should return predictions of the form $\\widehat{\\mathbf{y}} = \\exp(\\mathbf{X}\\beta)$. \n",
    "\n",
    "Hint: Numpy implements the exponential using `np.exp`.  \n",
    "\n",
    "Test your function by calling it with \n",
    "* `b=np.array([1,2])`\n",
    "* `X=np.array([[1,2,3],[2,3,1]]).T`"
   ]
  },
  {
   "cell_type": "code",
   "execution_count": 7,
   "metadata": {},
   "outputs": [],
   "source": [
    "def modelPrediction(b,X):\n",
    "    yhat = np.exp(X @ b)\n",
    "    return yhat"
   ]
  },
  {
   "cell_type": "code",
   "execution_count": 8,
   "metadata": {},
   "outputs": [
    {
     "name": "stdout",
     "output_type": "stream",
     "text": [
      "The yhat value from modelPrediction is: [ 148.4131591  2980.95798704  148.4131591 ]\n"
     ]
    }
   ],
   "source": [
    "yPred = modelPrediction(np.array([1,2]), np.array([[1,2,3],[2,3,1]]).T)\n",
    "print(f'The yhat value from modelPrediction is: {yPred}')"
   ]
  },
  {
   "attachments": {},
   "cell_type": "markdown",
   "metadata": {},
   "source": [
    "### Question 5: /15 Marks\n",
    "\n",
    "Write a function called `fitModel` which accepts as its first argument argument a design matrix $\\mathbf{X}$ and as its second argument a vector of outcomes counts $\\mathbf{y}$. The function should return the maximum likelihood estimates for the coefficients of a Poisson regression of $\\mathbf{y}$ onto $\\mathbf{X}$.\n",
    "\n",
    "Test your function by calling it with \n",
    "* `X=np.array([[1,2,3],[2,3,1]]).T`\n",
    "* `y=np.array([0,2,10])`\n",
    "\n",
    "What is your estimated b? "
   ]
  },
  {
   "cell_type": "code",
   "execution_count": 9,
   "metadata": {},
   "outputs": [
    {
     "name": "stdout",
     "output_type": "stream",
     "text": [
      "The estimated b is: [ 0.94827556 -0.5295352 ]\n"
     ]
    }
   ],
   "source": [
    "def fitModel(X,y):\n",
    "    \n",
    "    rows, cols = X.shape\n",
    "    # Instantiate a guess for the betas, beta_start, so that the optimizer has somewhere to start\n",
    "    # Keep in mind what shape the beta_start should be. It shoud have the same number of elements as X as columns\n",
    "    beta_start = np.zeros((cols, 1))\n",
    "    # Minimize the appropriate likelihood function\n",
    "    mle = minimize(poissonRegressionNegLogLikelihood, beta_start, args = (X, y), method = \"Powell\", tol = 1e-8)\n",
    "    # Extract the maximum likelihood estimates from the optimizer.\n",
    "    betas = mle.x\n",
    "    return betas\n",
    "\n",
    "# Write code to show your estimated b.\n",
    "X = np.array([[1,2,3], [2,3,1]]).T\n",
    "y = np.array([0,2,10])\n",
    "estB = fitModel(X, y) #prints alot of lines before the answer for some reason**estimated b is after\n",
    "print(f'The estimated b is: {estB}')"
   ]
  },
  {
   "attachments": {},
   "cell_type": "markdown",
   "metadata": {},
   "source": [
    "### Question 6: /15 Mark(s)\n",
    "\n",
    "Load in the data from `poisson_regression_data.csv`. Plot a scatterplot of the data. Fit a poisson regression to this data using the functions you wrote above.  Plot the model predictions over $x \\in [-2,2]$ on the same graph as the scatterplot of the data.  "
   ]
  },
  {
   "cell_type": "code",
   "execution_count": 10,
   "metadata": {},
   "outputs": [
    {
     "name": "stdout",
     "output_type": "stream",
     "text": [
      "<class 'pandas.core.frame.DataFrame'>\n",
      "RangeIndex: 101 entries, 0 to 100\n",
      "Data columns (total 2 columns):\n",
      " #   Column  Non-Null Count  Dtype  \n",
      "---  ------  --------------  -----  \n",
      " 0   x       101 non-null    float64\n",
      " 1   y       101 non-null    int64  \n",
      "dtypes: float64(1), int64(1)\n",
      "memory usage: 1.7 KB\n"
     ]
    },
    {
     "data": {
      "text/plain": [
       "[<matplotlib.lines.Line2D at 0x2790b33d880>]"
      ]
     },
     "execution_count": 10,
     "metadata": {},
     "output_type": "execute_result"
    },
    {
     "data": {
      "image/png": "[encoded data removed]",
      "text/plain": [
       "<Figure size 720x480 with 1 Axes>"
      ]
     },
     "metadata": {
      "needs_background": "light"
     },
     "output_type": "display_data"
    }
   ],
   "source": [
    "# Loading in the data.  \n",
    "df = pd.read_csv('poisson_regression_data.csv')\n",
    "df.info()\n",
    "\n",
    "fig, ax = plt.subplots(dpi = 120)\n",
    "# Scatterplot the data. \n",
    "plt.scatter(df.x, df.y, alpha = 0.6, label = 'Original Data')\n",
    "\n",
    "# Fit the model.  Use your functions.  \n",
    "x = df.x.values \n",
    "X = np.c_[np.ones(x.size), x]\n",
    "y = df.y.values\n",
    "\n",
    "# Find the maximum likelihood estimates for the coefficients for this data\n",
    "betas = fitModel(X, y)\n",
    "\n",
    "# Make predictions on new data\n",
    "newx = np.linspace(-2,2,1001)\n",
    "newX = np.c_[np.ones(newx.size), newx]\n",
    "\n",
    "# Make predictions on the new data\n",
    "y_predicted = newX @ betas\n",
    "\n",
    "#Finally, plot the predictions on the same axis and color the predictions red\n",
    "plt.plot(newx, y_predicted, c = 'red', label = 'Poisson Regression data')\n"
   ]
  },
  {
   "attachments": {},
   "cell_type": "markdown",
   "metadata": {},
   "source": [
    "### Question 7: /20 Mark(s)\n",
    "We wish to do an experiment to determine if ants search for food using a random search or directed search method. To help design the experiment we first will run some simulations. In the experiment, ants are placed inside a 50 mm $\\times$ 50 mm box. They cannot climb the wall, but can escape through an opening of size 5 mm in the wall. Repeated measurements of how far an ant travels in 1 second show an average speed of 2 mm per second. Our simulation needs to determine the probability that an ant escapes the box in 600 seconds (hint: so your main iteration would look like `for t in range(600):`) if their motion is indeed random. Assume the ant is always initially placed in the center of the box and simulate a simple random walk in 2D on discrete time in this fashion: Have the ant live on a discrete lattice. The ant takes 2 mm to the left if a random number $u$ satisfies $u < 0.25$. The ant moves 2 mm to the right if $0.25 \\leq u < 0.5$, the ant moves 2 mm up if $0.5 \\leq u < 0.75$, and 2 mm down if $0.75 \\leq u \\leq 1.0$. $u$ is distributed uniformly between 0 and 1 (hint: use `np.random.uniform(low=0.0, high=1)` to generate it). If a step would take the ant into a wall, repeat the step until it is successful (result is still one time-step). With `attempts = np.linspace(10, 1000, 19)`, run your main iteration under the loop `for M in attempts:` and construct a dataframe with columns for number of attempts (i.e. `M`), number of escapes, and probability of escape for every `M`. Your dataframe would eventually look something like this with 19 rows and real values:\n",
    "attempts | escapes| probability\n",
    "|---|---|---|\n",
    "|10|x1|y1|\n",
    "|65|x2|y2|\n",
    "|...|...|...|\n",
    "|1000|x19|y19|"
   ]
  },
  {
   "cell_type": "code",
   "execution_count": 11,
   "metadata": {},
   "outputs": [
    {
     "data": {
      "text/html": [
       "<div>\n",
       "<style scoped>\n",
       "    .dataframe tbody tr th:only-of-type {\n",
       "        vertical-align: middle;\n",
       "    }\n",
       "\n",
       "    .dataframe tbody tr th {\n",
       "        vertical-align: top;\n",
       "    }\n",
       "\n",
       "    .dataframe thead th {\n",
       "        text-align: right;\n",
       "    }\n",
       "</style>\n",
       "<table border=\"1\" class=\"dataframe\">\n",
       "  <thead>\n",
       "    <tr style=\"text-align: right;\">\n",
       "      <th></th>\n",
       "      <th># of Attempts</th>\n",
       "      <th># of Escapes</th>\n",
       "      <th>Probability of Escape</th>\n",
       "    </tr>\n",
       "  </thead>\n",
       "  <tbody>\n",
       "    <tr>\n",
       "      <th>0</th>\n",
       "      <td>10.0</td>\n",
       "      <td>2</td>\n",
       "      <td>0.2000</td>\n",
       "    </tr>\n",
       "    <tr>\n",
       "      <th>1</th>\n",
       "      <td>65.0</td>\n",
       "      <td>12</td>\n",
       "      <td>0.1846</td>\n",
       "    </tr>\n",
       "    <tr>\n",
       "      <th>2</th>\n",
       "      <td>120.0</td>\n",
       "      <td>27</td>\n",
       "      <td>0.2250</td>\n",
       "    </tr>\n",
       "    <tr>\n",
       "      <th>3</th>\n",
       "      <td>175.0</td>\n",
       "      <td>32</td>\n",
       "      <td>0.1829</td>\n",
       "    </tr>\n",
       "    <tr>\n",
       "      <th>4</th>\n",
       "      <td>230.0</td>\n",
       "      <td>38</td>\n",
       "      <td>0.1652</td>\n",
       "    </tr>\n",
       "  </tbody>\n",
       "</table>\n",
       "</div>"
      ],
      "text/plain": [
       "   # of Attempts # of Escapes  Probability of Escape\n",
       "0           10.0            2                 0.2000\n",
       "1           65.0           12                 0.1846\n",
       "2          120.0           27                 0.2250\n",
       "3          175.0           32                 0.1829\n",
       "4          230.0           38                 0.1652"
      ]
     },
     "execution_count": 11,
     "metadata": {},
     "output_type": "execute_result"
    }
   ],
   "source": [
    "attempts = np.linspace(10, 1000, 19)\n",
    "x    = 50       # box size in x-direction\n",
    "y    = 50       # box size in y-direction\n",
    "time = 600      # in seconds\n",
    "\n",
    "# coordinate of one arbitrary opening of size 5 mm:\n",
    "openx1 = 30\n",
    "openx2 = 35\n",
    "openy = 0\n",
    "\n",
    "# distance in millimeters that the ant travels per second\n",
    "delta  = 2\n",
    "\n",
    "df_attempts = pd.DataFrame(data = attempts, columns = ['# of Attempts'])\n",
    "df_escapes = pd.DataFrame(columns = ['# of Escapes'])\n",
    "df_probability = pd.DataFrame(columns = ['Probability of Escape'])\n",
    "\n",
    "for M in attempts:\n",
    "    escape = 0\n",
    "    \n",
    "    for trial in range(int(M)):\n",
    "        antLocx = 25\n",
    "        antLocy = 25\n",
    "        \n",
    "        for t in range(600):\n",
    "            #moving ant\n",
    "            move = np.random.uniform(low = 0.0, high = 1.0)\n",
    "            if (move < 0.25 and antLocx >= 0):\n",
    "                antLocx -= delta\n",
    "            elif ((move >= 0.25 and move < 0.5) and antLocx <= 50):\n",
    "                antLocx += delta\n",
    "            elif ((move >= 0.5 and move < 0.75) and antLocy <= 50):\n",
    "                antLocy += delta\n",
    "            elif ((move >= 0.75 and move <= 1.0) and antLocy >= 0):\n",
    "                antLocy -= delta\n",
    "                \n",
    "            #print(f'X: {antLocx}, Y: {antLocy}')\n",
    "            if ((antLocx >= 30 and antLocx <= 35) and antLocy <= 0):\n",
    "                escape += 1\n",
    "                break\n",
    "    \n",
    "    df_escapes.loc[len(df_escapes.index)] = escape\n",
    "    probability = escape / M\n",
    "    df_probability.loc[len(df_probability.index)] = probability.round(4)\n",
    "\n",
    "ant = pd.concat([df_attempts, df_escapes, df_probability], axis=1)\n",
    "ant.head()"
   ]
  },
  {
   "attachments": {},
   "cell_type": "markdown",
   "metadata": {},
   "source": [
    "### Question 8: /5 Mark(s)\n",
    "Explore the dataframe created in the previous step. Do you see any trend in probability? What value for probability would you report if you are asked what is the probability of the escape event? "
   ]
  },
  {
   "cell_type": "code",
   "execution_count": 12,
   "metadata": {},
   "outputs": [
    {
     "data": {
      "text/html": [
       "<div>\n",
       "<style scoped>\n",
       "    .dataframe tbody tr th:only-of-type {\n",
       "        vertical-align: middle;\n",
       "    }\n",
       "\n",
       "    .dataframe tbody tr th {\n",
       "        vertical-align: top;\n",
       "    }\n",
       "\n",
       "    .dataframe thead th {\n",
       "        text-align: right;\n",
       "    }\n",
       "</style>\n",
       "<table border=\"1\" class=\"dataframe\">\n",
       "  <thead>\n",
       "    <tr style=\"text-align: right;\">\n",
       "      <th></th>\n",
       "      <th># of Attempts</th>\n",
       "      <th>Probability of Escape</th>\n",
       "    </tr>\n",
       "  </thead>\n",
       "  <tbody>\n",
       "    <tr>\n",
       "      <th>count</th>\n",
       "      <td>19.000000</td>\n",
       "      <td>19.000000</td>\n",
       "    </tr>\n",
       "    <tr>\n",
       "      <th>mean</th>\n",
       "      <td>505.000000</td>\n",
       "      <td>0.213000</td>\n",
       "    </tr>\n",
       "    <tr>\n",
       "      <th>std</th>\n",
       "      <td>309.502289</td>\n",
       "      <td>0.024828</td>\n",
       "    </tr>\n",
       "    <tr>\n",
       "      <th>min</th>\n",
       "      <td>10.000000</td>\n",
       "      <td>0.165200</td>\n",
       "    </tr>\n",
       "    <tr>\n",
       "      <th>25%</th>\n",
       "      <td>257.500000</td>\n",
       "      <td>0.197450</td>\n",
       "    </tr>\n",
       "    <tr>\n",
       "      <th>50%</th>\n",
       "      <td>505.000000</td>\n",
       "      <td>0.214600</td>\n",
       "    </tr>\n",
       "    <tr>\n",
       "      <th>75%</th>\n",
       "      <td>752.500000</td>\n",
       "      <td>0.225850</td>\n",
       "    </tr>\n",
       "    <tr>\n",
       "      <th>max</th>\n",
       "      <td>1000.000000</td>\n",
       "      <td>0.256100</td>\n",
       "    </tr>\n",
       "  </tbody>\n",
       "</table>\n",
       "</div>"
      ],
      "text/plain": [
       "       # of Attempts  Probability of Escape\n",
       "count      19.000000              19.000000\n",
       "mean      505.000000               0.213000\n",
       "std       309.502289               0.024828\n",
       "min        10.000000               0.165200\n",
       "25%       257.500000               0.197450\n",
       "50%       505.000000               0.214600\n",
       "75%       752.500000               0.225850\n",
       "max      1000.000000               0.256100"
      ]
     },
     "execution_count": 12,
     "metadata": {},
     "output_type": "execute_result"
    }
   ],
   "source": [
    "ant.describe()"
   ]
  },
  {
   "attachments": {},
   "cell_type": "markdown",
   "metadata": {},
   "source": [
    "#### Written Answer: The probability seems to stay around the 20%-30% mark between most of the runs with a few outliers.  If I had to report a probability value for an escape event I would use the mean of 21.30% "
   ]
  },
  {
   "attachments": {},
   "cell_type": "markdown",
   "metadata": {},
   "source": [
    "### Question 9: /10 Mark(s)\n",
    "Now scatter plot `attempts` versus `escapes` and use what you have learned so far to apply linear regression (ordinary least squares) to the data, and plot the predictions over the same range. Report your fit coefficients and compare them against your answer to the previous question and report what you witness and explain why?"
   ]
  },
  {
   "cell_type": "code",
   "execution_count": 13,
   "metadata": {},
   "outputs": [
    {
     "name": "stdout",
     "output_type": "stream",
     "text": [
      "The coefficients are: [0.22185008]\n"
     ]
    },
    {
     "data": {
      "image/png": "[encoded data removed]",
      "text/plain": [
       "<Figure size 432x288 with 1 Axes>"
      ]
     },
     "metadata": {
      "needs_background": "light"
     },
     "output_type": "display_data"
    }
   ],
   "source": [
    "plt.scatter(data = ant, x = '# of Attempts', y = '# of Escapes')\n",
    "plt.xlabel('# of Attempts')\n",
    "plt.ylabel('# of Escapes')\n",
    "\n",
    "X = np.c_[ant['# of Attempts']]\n",
    "linReg = linear_model.LinearRegression().fit(X, ant['# of Escapes'])\n",
    "print(f'The coefficients are: {linReg.coef_}')"
   ]
  },
  {
   "attachments": {},
   "cell_type": "markdown",
   "metadata": {},
   "source": [
    "#### Written Answer: The coefficient found by the linear regression is very close to the mean percentage found from Question 8, therefore I think my choice was good to report the mean.  The difference is 21.30% vs 22.18% which the second value is much more likely to be precise given that its from the linear regression vs just taking the mean of the data."
   ]
  },
  {
   "attachments": {},
   "cell_type": "markdown",
   "metadata": {},
   "source": [
    "### Follow These Instructions\n",
    "\n",
    "Once you are finished, ensure to complete the following steps.\n",
    "\n",
    "1.  Restart your kernel by clicking 'Kernel' > 'Restart & Run All'.\n",
    "\n",
    "2.  Fix any errors which result from this.\n",
    "\n",
    "3.  Repeat steps 1. and 2. until your notebook runs without errors.\n",
    "\n",
    "4.  Submit your completed notebook to OWL by the deadline."
   ]
  }
 ],
 "metadata": {
  "kernelspec": {
   "display_name": "Python 3 (ipykernel)",
   "language": "python",
   "name": "python3"
  },
  "language_info": {
   "codemirror_mode": {
    "name": "ipython",
    "version": 3
   },
   "file_extension": ".py",
   "mimetype": "text/x-python",
   "name": "python",
   "nbconvert_exporter": "python",
   "pygments_lexer": "ipython3",
   "version": "3.9.7"
  }
 },
 "nbformat": 4,
 "nbformat_minor": 4
}
