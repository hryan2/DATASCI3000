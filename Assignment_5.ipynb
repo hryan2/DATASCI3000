{
  "cells": [
    {
      "attachments": {},
      "cell_type": "markdown",
      "id": "julian-uzbekistan",
      "metadata": {
        "id": "julian-uzbekistan"
      },
      "source": [
        "## Assignment 05\n",
        "\n",
        "\n",
        "\n",
        "This dataset comes from the Amazon website and represents 1,000 reviews which were labeled (by humans) as positive or negative. In this assignment, we will study apply dimensionality reduction methods to improve our understanding of text data and to predict the sentiment of a set of texts. "
      ]
    },
    {
      "cell_type": "code",
      "execution_count": 1,
      "id": "associate-mistake",
      "metadata": {
        "colab": {
          "base_uri": "https://localhost:8080/"
        },
        "id": "associate-mistake",
        "outputId": "7b1f8e17-c5f2-4b00-ff2f-fa9e480a5e31",
        "scrolled": false
      },
      "outputs": [
        {
          "name": "stdout",
          "output_type": "stream",
          "text": [
            "Downloading...\n",
            "From: https://drive.google.com/uc?id=1habwBbNCj6wFIDvxLa7hdP2xakA_tcDG\n",
            "To: /content/Reviews_sample.csv\n",
            "\r  0% 0.00/456k [00:00<?, ?B/s]\r100% 456k/456k [00:00<00:00, 113MB/s]\n"
          ]
        }
      ],
      "source": [
        "#!pip install gdown\n",
        "!gdown https://drive.google.com/uc?id=1habwBbNCj6wFIDvxLa7hdP2xakA_tcDG"
      ]
    },
    {
      "cell_type": "code",
      "execution_count": 2,
      "id": "respective-contrast",
      "metadata": {
        "colab": {
          "base_uri": "https://localhost:8080/"
        },
        "id": "respective-contrast",
        "outputId": "4f307c0a-f1c5-4d5b-9e98-4806f7a49447"
      },
      "outputs": [
        {
          "name": "stdout",
          "output_type": "stream",
          "text": [
            "Looking in indexes: https://pypi.org/simple, https://us-python.pkg.dev/colab-wheels/public/simple/\n",
            "Requirement already satisfied: umap-learn in /usr/local/lib/python3.8/dist-packages (0.5.3)\n",
            "Requirement already satisfied: scipy>=1.0 in /usr/local/lib/python3.8/dist-packages (from umap-learn) (1.7.3)\n",
            "Requirement already satisfied: numba>=0.49 in /usr/local/lib/python3.8/dist-packages (from umap-learn) (0.56.4)\n",
            "Requirement already satisfied: tqdm in /usr/local/lib/python3.8/dist-packages (from umap-learn) (4.64.1)\n",
            "Requirement already satisfied: pynndescent>=0.5 in /usr/local/lib/python3.8/dist-packages (from umap-learn) (0.5.8)\n",
            "Requirement already satisfied: scikit-learn>=0.22 in /usr/local/lib/python3.8/dist-packages (from umap-learn) (1.0.2)\n",
            "Requirement already satisfied: numpy>=1.17 in /usr/local/lib/python3.8/dist-packages (from umap-learn) (1.21.6)\n",
            "Requirement already satisfied: importlib-metadata in /usr/local/lib/python3.8/dist-packages (from numba>=0.49->umap-learn) (4.13.0)\n",
            "Requirement already satisfied: setuptools in /usr/local/lib/python3.8/dist-packages (from numba>=0.49->umap-learn) (57.4.0)\n",
            "Requirement already satisfied: llvmlite<0.40,>=0.39.0dev0 in /usr/local/lib/python3.8/dist-packages (from numba>=0.49->umap-learn) (0.39.1)\n",
            "Requirement already satisfied: joblib>=0.11 in /usr/local/lib/python3.8/dist-packages (from pynndescent>=0.5->umap-learn) (1.2.0)\n",
            "Requirement already satisfied: threadpoolctl>=2.0.0 in /usr/local/lib/python3.8/dist-packages (from scikit-learn>=0.22->umap-learn) (3.1.0)\n",
            "Requirement already satisfied: zipp>=0.5 in /usr/local/lib/python3.8/dist-packages (from importlib-metadata->numba>=0.49->umap-learn) (3.11.0)\n"
          ]
        }
      ],
      "source": [
        "import numpy as np\n",
        "import pandas as pd\n",
        "!pip install umap-learn\n",
        "import umap\n",
        "from sklearn.decomposition import PCA, TruncatedSVD\n",
        "import sklearn.feature_extraction.text as sktext\n",
        "from sklearn.linear_model import LogisticRegressionCV\n",
        "from sklearn.model_selection import train_test_split\n",
        "from sklearn.metrics import roc_curve, roc_auc_score\n",
        "from itertools import product\n",
        "\n",
        "import seaborn as sns\n",
        "import matplotlib.pyplot as plt\n",
        "%matplotlib inline\n",
        "seed = 0"
      ]
    },
    {
      "attachments": {},
      "cell_type": "markdown",
      "id": "declared-federal",
      "metadata": {
        "id": "declared-federal"
      },
      "source": [
        "## Task 1: Decomposition of the texts [ /66 marks]\n",
        "\n",
        "### Question 1.1\n",
        "\n",
        "The dataset comes with the text and a binary variable which represents the sentiment, either positive or negative. Import the data and use sklearn's `TfidfVectorizer` to eliminate accents, special characters, and stopwords. In addition, make sure to eliminate words that appear in less than 5% of documents and those that appear in over 95%. You can also set `sublinear_tf` to `True`. After that, split the data into train and test with `test_size = 0.2` and `seed = seed`. Calculate the [Tf-Idf transform](https://scikit-learn.org/stable/modules/generated/sklearn.feature_extraction.text.TfidfTransformer.html) for both train and test. Note that you need to fit and transform the inputs for the train set but you only need to transform the inputs for the test set. Don't forget to turn the sparse matrices to dense ones after you apply the `Tf-Idf` transform.  "
      ]
    },
    {
      "cell_type": "code",
      "execution_count": 3,
      "id": "1f703a98",
      "metadata": {
        "colab": {
          "base_uri": "https://localhost:8080/",
          "height": 206
        },
        "id": "1f703a98",
        "outputId": "1a3824ab-15af-4c16-d72a-1f1e9ff12fc9"
      },
      "outputs": [
        {
          "data": {
            "text/html": [
              "\n",
              "  <div id=\"df-21cb53ec-d89b-4218-a56f-a46e0376abbc\">\n",
              "    <div class=\"colab-df-container\">\n",
              "      <div>\n",
              "<style scoped>\n",
              "    .dataframe tbody tr th:only-of-type {\n",
              "        vertical-align: middle;\n",
              "    }\n",
              "\n",
              "    .dataframe tbody tr th {\n",
              "        vertical-align: top;\n",
              "    }\n",
              "\n",
              "    .dataframe thead th {\n",
              "        text-align: right;\n",
              "    }\n",
              "</style>\n",
              "<table border=\"1\" class=\"dataframe\">\n",
              "  <thead>\n",
              "    <tr style=\"text-align: right;\">\n",
              "      <th></th>\n",
              "      <th>text</th>\n",
              "      <th>label</th>\n",
              "    </tr>\n",
              "  </thead>\n",
              "  <tbody>\n",
              "    <tr>\n",
              "      <th>0</th>\n",
              "      <td>Stuning even for the non-gamer: This sound tr...</td>\n",
              "      <td>1</td>\n",
              "    </tr>\n",
              "    <tr>\n",
              "      <th>503</th>\n",
              "      <td>Textbook: Should have been a nationwide eleme...</td>\n",
              "      <td>1</td>\n",
              "    </tr>\n",
              "    <tr>\n",
              "      <th>505</th>\n",
              "      <td>Great Book: Very easy to read, simple argumen...</td>\n",
              "      <td>1</td>\n",
              "    </tr>\n",
              "    <tr>\n",
              "      <th>515</th>\n",
              "      <td>Back to basics...: Sometimes back to basics i...</td>\n",
              "      <td>1</td>\n",
              "    </tr>\n",
              "    <tr>\n",
              "      <th>516</th>\n",
              "      <td>A great alternative perspective: Particularly...</td>\n",
              "      <td>1</td>\n",
              "    </tr>\n",
              "  </tbody>\n",
              "</table>\n",
              "</div>\n",
              "      <button class=\"colab-df-convert\" onclick=\"convertToInteractive('df-21cb53ec-d89b-4218-a56f-a46e0376abbc')\"\n",
              "              title=\"Convert this dataframe to an interactive table.\"\n",
              "              style=\"display:none;\">\n",
              "        \n",
              "  <svg xmlns=\"http://www.w3.org/2000/svg\" height=\"24px\"viewBox=\"0 0 24 24\"\n",
              "       width=\"24px\">\n",
              "    <path d=\"M0 0h24v24H0V0z\" fill=\"none\"/>\n",
              "    <path d=\"M18.56 5.44l.94 2.06.94-2.06 2.06-.94-2.06-.94-.94-2.06-.94 2.06-2.06.94zm-11 1L8.5 8.5l.94-2.06 2.06-.94-2.06-.94L8.5 2.5l-.94 2.06-2.06.94zm10 10l.94 2.06.94-2.06 2.06-.94-2.06-.94-.94-2.06-.94 2.06-2.06.94z\"/><path d=\"M17.41 7.96l-1.37-1.37c-.4-.4-.92-.59-1.43-.59-.52 0-1.04.2-1.43.59L10.3 9.45l-7.72 7.72c-.78.78-.78 2.05 0 2.83L4 21.41c.39.39.9.59 1.41.59.51 0 1.02-.2 1.41-.59l7.78-7.78 2.81-2.81c.8-.78.8-2.07 0-2.86zM5.41 20L4 18.59l7.72-7.72 1.47 1.35L5.41 20z\"/>\n",
              "  </svg>\n",
              "      </button>\n",
              "      \n",
              "  <style>\n",
              "    .colab-df-container {\n",
              "      display:flex;\n",
              "      flex-wrap:wrap;\n",
              "      gap: 12px;\n",
              "    }\n",
              "\n",
              "    .colab-df-convert {\n",
              "      background-color: #E8F0FE;\n",
              "      border: none;\n",
              "      border-radius: 50%;\n",
              "      cursor: pointer;\n",
              "      display: none;\n",
              "      fill: #1967D2;\n",
              "      height: 32px;\n",
              "      padding: 0 0 0 0;\n",
              "      width: 32px;\n",
              "    }\n",
              "\n",
              "    .colab-df-convert:hover {\n",
              "      background-color: #E2EBFA;\n",
              "      box-shadow: 0px 1px 2px rgba(60, 64, 67, 0.3), 0px 1px 3px 1px rgba(60, 64, 67, 0.15);\n",
              "      fill: #174EA6;\n",
              "    }\n",
              "\n",
              "    [theme=dark] .colab-df-convert {\n",
              "      background-color: #3B4455;\n",
              "      fill: #D2E3FC;\n",
              "    }\n",
              "\n",
              "    [theme=dark] .colab-df-convert:hover {\n",
              "      background-color: #434B5C;\n",
              "      box-shadow: 0px 1px 3px 1px rgba(0, 0, 0, 0.15);\n",
              "      filter: drop-shadow(0px 1px 2px rgba(0, 0, 0, 0.3));\n",
              "      fill: #FFFFFF;\n",
              "    }\n",
              "  </style>\n",
              "\n",
              "      <script>\n",
              "        const buttonEl =\n",
              "          document.querySelector('#df-21cb53ec-d89b-4218-a56f-a46e0376abbc button.colab-df-convert');\n",
              "        buttonEl.style.display =\n",
              "          google.colab.kernel.accessAllowed ? 'block' : 'none';\n",
              "\n",
              "        async function convertToInteractive(key) {\n",
              "          const element = document.querySelector('#df-21cb53ec-d89b-4218-a56f-a46e0376abbc');\n",
              "          const dataTable =\n",
              "            await google.colab.kernel.invokeFunction('convertToInteractive',\n",
              "                                                     [key], {});\n",
              "          if (!dataTable) return;\n",
              "\n",
              "          const docLinkHtml = 'Like what you see? Visit the ' +\n",
              "            '<a target=\"_blank\" href=https://colab.research.google.com/notebooks/data_table.ipynb>data table notebook</a>'\n",
              "            + ' to learn more about interactive tables.';\n",
              "          element.innerHTML = '';\n",
              "          dataTable['output_type'] = 'display_data';\n",
              "          await google.colab.output.renderOutput(dataTable, element);\n",
              "          const docLink = document.createElement('div');\n",
              "          docLink.innerHTML = docLinkHtml;\n",
              "          element.appendChild(docLink);\n",
              "        }\n",
              "      </script>\n",
              "    </div>\n",
              "  </div>\n",
              "  "
            ],
            "text/plain": [
              "                                                  text  label\n",
              "0     Stuning even for the non-gamer: This sound tr...      1\n",
              "503   Textbook: Should have been a nationwide eleme...      1\n",
              "505   Great Book: Very easy to read, simple argumen...      1\n",
              "515   Back to basics...: Sometimes back to basics i...      1\n",
              "516   A great alternative perspective: Particularly...      1"
            ]
          },
          "execution_count": 3,
          "metadata": {},
          "output_type": "execute_result"
        }
      ],
      "source": [
        "# Load the data [ /1 marks]\n",
        "data = pd.read_csv('https://drive.google.com/uc?id=1habwBbNCj6wFIDvxLa7hdP2xakA_tcDG')\n",
        "\n",
        "# Display the first 5 rows [ /1 marks]\n",
        "data = data.sort_values(by = 'label', ascending = False)\n",
        "data.head()"
      ]
    },
    {
      "cell_type": "code",
      "execution_count": 4,
      "id": "clear-imperial",
      "metadata": {
        "id": "clear-imperial"
      },
      "outputs": [],
      "source": [
        "# Defining the TfIDFTransformer [ /4 marks]\n",
        "TFIDF = sktext.TfidfVectorizer(strip_accents = 'unicode', \n",
        "                               stop_words = 'english', \n",
        "                               min_df = 0.05, \n",
        "                               max_df = 0.95, \n",
        "                               sublinear_tf = True)\n",
        "\n",
        "\n",
        "# Train/test split [ /2 marks]\n",
        "trainData, testData = train_test_split(data, test_size = 0.2, random_state = seed)\n",
        "\n",
        "# Calculate the Tf-Idf transform on training and test [ /4 marks]\n",
        "TFIDF_train = TFIDF.fit_transform(trainData['text']).toarray()\n",
        "TFIDF_train_q2 = TFIDF.fit_transform(trainData['text'])\n",
        "TFIDF_test = TFIDF.transform(testData['text']).toarray()\n",
        "TFIDF_test_q2 = TFIDF.transform(testData['text'])"
      ]
    },
    {
      "attachments": {},
      "cell_type": "markdown",
      "id": "bacterial-calvin",
      "metadata": {
        "id": "bacterial-calvin"
      },
      "source": [
        "From here on, you will use the variables `TfIDF_train` and `TfIDF_test` as the input for the different tasks, and the `y_train` and `y_test` labels for each dataset (if required). Print the number of indices in the ouput using [`TfIDFTransformer.get_feature_names()` method](https://scikit-learn.org/stable/modules/generated/sklearn.feature_extraction.text.TfidfTransformer.html)."
      ]
    },
    {
      "cell_type": "code",
      "execution_count": 5,
      "id": "continental-batch",
      "metadata": {
        "colab": {
          "base_uri": "https://localhost:8080/"
        },
        "id": "continental-batch",
        "outputId": "12b87d5e-d552-4e44-a02b-b115d29f6bbb"
      },
      "outputs": [
        {
          "name": "stdout",
          "output_type": "stream",
          "text": [
            "Training Indices: 63\n",
            "Testing Indices: 63\n"
          ]
        }
      ],
      "source": [
        "# Print the number of indices [ /2 marks]\n",
        "print(f'Training Indices: {len(TFIDF_train[0, :])}')\n",
        "print(f'Testing Indices: {len(TFIDF_test[0, :])}')"
      ]
    },
    {
      "attachments": {},
      "cell_type": "markdown",
      "id": "tribal-scholarship",
      "metadata": {
        "id": "tribal-scholarship"
      },
      "source": [
        "### Question 1.2\n",
        "Now we have the TfIDF matrix so we can start working on the data. We hope to explore what some commonly occuring concepts are in the text reviews. We can do this using PCA. A PCA transform of the TF-IDF matrix will give us a basis of the text data, each component representing a *concept* or set of words that are correlated. Correlation in text can be interpreted as a relation to a similar topic. Calculate a PCA transform of the training data using the **maximum** number of concepts possible. Make a plot of the explained variance that shows the cumulative explained variance per number of concepts.\n",
        "\n"
      ]
    },
    {
      "cell_type": "code",
      "execution_count": 6,
      "id": "valid-uganda",
      "metadata": {
        "colab": {
          "base_uri": "https://localhost:8080/",
          "height": 296
        },
        "id": "valid-uganda",
        "outputId": "756ebd4f-9ecc-4984-efe0-2f87651bc53a"
      },
      "outputs": [
        {
          "data": {
            "text/plain": [
              "Text(0, 0.5, 'Explained variance %')"
            ]
          },
          "execution_count": 6,
          "metadata": {},
          "output_type": "execute_result"
        },
        {
          "data": {
            "image/png": "[encoded data removed]",
            "text/plain": [
              "<Figure size 432x288 with 1 Axes>"
            ]
          },
          "metadata": {
            "needs_background": "light"
          },
          "output_type": "display_data"
        }
      ],
      "source": [
        "# Apply PCA on training data and get the explained variance [ / 4 marks]\n",
        "nPCA = PCA(n_components = 63)\n",
        "nPCA.fit(TFIDF_train)\n",
        "\n",
        "# Plotting explained variance with number of concepts [ / 4 marks]\n",
        "z1 = nPCA.transform(TFIDF_train)\n",
        "sns.scatterplot(x = z1[:, 0], y = z1[:, 1], hue = trainData['label'])\n",
        "plt.xlabel('Number of concepts')\n",
        "plt.ylabel('Explained variance %')"
      ]
    },
    {
      "attachments": {},
      "cell_type": "markdown",
      "id": "eeeaebd3",
      "metadata": {
        "id": "eeeaebd3"
      },
      "source": [
        "**Question:** Exactly how many concepts do we need to correctly explain at least 80% of the data?\n"
      ]
    },
    {
      "cell_type": "code",
      "execution_count": 7,
      "id": "fitted-rogers",
      "metadata": {
        "id": "fitted-rogers"
      },
      "outputs": [],
      "source": [
        "# To get the exact index where the variance is above 80% [ / 4 marks]\n",
        "#idx = "
      ]
    },
    {
      "attachments": {},
      "cell_type": "markdown",
      "id": "224b4fd3",
      "metadata": {
        "id": "224b4fd3"
      },
      "source": [
        "**Your Answer:** "
      ]
    },
    {
      "attachments": {},
      "cell_type": "markdown",
      "id": "electronic-calgary",
      "metadata": {
        "id": "electronic-calgary"
      },
      "source": [
        "### Question 1.3\n",
        "\n",
        "Let's examine the first three concepts by looking how many variance they explained and showing the 10 words that are the most important in each of these three concepts (as revealed by the absolute value of the PCA weight in each concept).\n"
      ]
    },
    {
      "cell_type": "code",
      "execution_count": 8,
      "id": "lesser-prison",
      "metadata": {
        "colab": {
          "base_uri": "https://localhost:8080/"
        },
        "id": "lesser-prison",
        "outputId": "25596556-3e07-466a-8210-f123637a04c7"
      },
      "outputs": [
        {
          "name": "stdout",
          "output_type": "stream",
          "text": [
            "The first three components explain 88.38% of the variance.\n"
          ]
        }
      ],
      "source": [
        "# Explained variance [ / 2 marks]\n",
        "explained_variance = np.sum(nPCA.explained_variance_)*100\n",
        "print('The first three components explain %.2f%% of the variance.' % (explained_variance))"
      ]
    },
    {
      "cell_type": "code",
      "execution_count": 9,
      "id": "based-deviation",
      "metadata": {
        "colab": {
          "base_uri": "https://localhost:8080/"
        },
        "id": "based-deviation",
        "outputId": "eb5680f0-8564-4d74-e44a-e26813bfbc7f"
      },
      "outputs": [
        {
          "name": "stdout",
          "output_type": "stream",
          "text": [
            "['author' 'bad' 'best' 'better' 'book' 'books' 'bought' 'buy' 'classic'\n",
            " 'day']\n"
          ]
        }
      ],
      "source": [
        "# Get 10 most important words for each component [ / 4 marks]\n",
        "wIndex = TFIDF.get_feature_names_out()\n",
        "\n",
        "top10 = []\n",
        "for i in range(len(nPCA.components_)):\n",
        "  top10.append(wIndex[nPCA.components_[i, :] > 0][:10])\n",
        "\n",
        "#Example\n",
        "print(top10[60])"
      ]
    },
    {
      "cell_type": "code",
      "execution_count": 10,
      "id": "gorgeous-montana",
      "metadata": {
        "colab": {
          "base_uri": "https://localhost:8080/"
        },
        "id": "gorgeous-montana",
        "outputId": "786b5259-ed8a-4ad2-a6db-76fc6c34e013"
      },
      "outputs": [
        {
          "name": "stdout",
          "output_type": "stream",
          "text": [
            "['author' 'book' 'books' 'boring' 'characters' 'classic' 'did' 'good'\n",
            " 'hard' 'hawthorne' 'long' 'novel' 'plot' 'read' 'reading' 'recommend'\n",
            " 'say' 'story' 'think' 'time' 'way' 'writing' 'written']\n"
          ]
        }
      ],
      "source": [
        "# Words for concept 1 [ / 2 marks]\n",
        "print(wIndex[nPCA.components_[0, :] > 0])"
      ]
    },
    {
      "cell_type": "code",
      "execution_count": 11,
      "id": "mature-cyprus",
      "metadata": {
        "colab": {
          "base_uri": "https://localhost:8080/"
        },
        "id": "mature-cyprus",
        "outputId": "50f6af25-996b-41d2-d857-e0bd3afe73f7"
      },
      "outputs": [
        {
          "name": "stdout",
          "output_type": "stream",
          "text": [
            "['best' 'book' 'bought' 'buy' 'day' 'does' 'got' 'great' 'look' 'lot'\n",
            " 'love' 'makes' 'product' 'read' 'recommend' 'think' 'time' 'use' 'wear'\n",
            " 'work' 'worth' 'written' 'year' 'years']\n"
          ]
        }
      ],
      "source": [
        "# Words for concept 2 [ / 2 marks]\n",
        "print(wIndex[nPCA.components_[1, :] > 0])"
      ]
    },
    {
      "cell_type": "code",
      "execution_count": 12,
      "id": "proprietary-contributor",
      "metadata": {
        "colab": {
          "base_uri": "https://localhost:8080/"
        },
        "id": "proprietary-contributor",
        "outputId": "5765949d-267a-492a-c6ad-58de752490ac"
      },
      "outputs": [
        {
          "name": "stdout",
          "output_type": "stream",
          "text": [
            "['bad' 'best' 'better' 'book' 'boring' 'characters' 'going' 'good' 'great'\n",
            " 'little' 'look' 'lot' 'love' 'movie' 'old' 'people' 'plot' 'read'\n",
            " 'really' 'think' 'want' 'worth' 'writing' 'written' 'year']\n"
          ]
        }
      ],
      "source": [
        "# Words for concept 3 [ / 2 marks]\n",
        "print(wIndex[nPCA.components_[2, :] > 0])"
      ]
    },
    {
      "attachments": {},
      "cell_type": "markdown",
      "id": "ahead-evaluation",
      "metadata": {
        "id": "ahead-evaluation"
      },
      "source": [
        "\n",
        "**Question:** What is the cumulative variance explained by these three concepts? What would you name each of these concepts? [ / 2 marks]\n",
        "\n",
        "*Hint: If in a concept you would get the words 'dog', 'cat', 'fish' as the most important ones, you could name the concept 'animals' or 'pets'.*\n",
        "\n",
        "The cumulative variance explained by these are 88.38% and I would name concept 1: writer (author, book, books, characters), concept 2: Shopping (bought, buy, recommend, product, worth, use, wear), concept 3: Comparison (bad, best, better, good, great)"
      ]
    },
    {
      "attachments": {},
      "cell_type": "markdown",
      "id": "outstanding-hepatitis",
      "metadata": {
        "id": "outstanding-hepatitis"
      },
      "source": [
        "### Question 1.4\n",
        "\n",
        " Apply the PCA transformation to the test dataset. Use only the first two components and make a scatter plot of the cases. Identify positive and negative cases by colouring points with different sentiments with different colours.\n"
      ]
    },
    {
      "cell_type": "code",
      "execution_count": 13,
      "id": "ruled-central",
      "metadata": {
        "colab": {
          "base_uri": "https://localhost:8080/",
          "height": 296
        },
        "id": "ruled-central",
        "outputId": "7b92acfc-8675-44a3-aba2-28e8df72fe0b"
      },
      "outputs": [
        {
          "data": {
            "text/plain": [
              "Text(0, 0.5, 'Explained variance %')"
            ]
          },
          "execution_count": 13,
          "metadata": {},
          "output_type": "execute_result"
        },
        {
          "data": {
            "image/png": "[encoded data removed]",
            "text/plain": [
              "<Figure size 432x288 with 1 Axes>"
            ]
          },
          "metadata": {
            "needs_background": "light"
          },
          "output_type": "display_data"
        }
      ],
      "source": [
        "# Apply PCA to the test dataset [ / 2 marks]\n",
        "nPCA = PCA(n_components = 2)\n",
        "nPCA.fit(TFIDF_test)\n",
        "\n",
        "# Plot the two different set of points with different markers and labels [ /4 marks]\n",
        "z1 = nPCA.transform(TFIDF_test)\n",
        "sns.scatterplot(x = z1[:, 0], y = z1[:, 1], hue = testData['label'])\n",
        "plt.xlabel('Number of concepts')\n",
        "plt.ylabel('Explained variance %')"
      ]
    },
    {
      "attachments": {},
      "cell_type": "markdown",
      "id": "present-sunglasses",
      "metadata": {
        "id": "present-sunglasses"
      },
      "source": [
        "**Question:** What can we say about where the positive and negative cases lie in our plot? Could we use these concepts to discriminate positive and negative cases? If yes, why? If no, why not? Discuss your findings. [ /2 marks]\n",
        " \n",
        "**Your answer:** The positive cases tend to lie within a larger variance range compared to that of the negative cases.  EX the positive cases show datapoints near the extremes of the plot like 0.6 and -0.6 whereas the negative cases do not go past 0.4 or ~-0.5.  I don't think that we would be able to discriminate the positive and negative cases since they are so intertwined together throughout the plot.  It would be hard to distinguish the two from each other as despite the range difference, the two cases have very similar plot housing."
      ]
    },
    {
      "attachments": {},
      "cell_type": "markdown",
      "id": "dt7hcc3noPEU",
      "metadata": {
        "id": "dt7hcc3noPEU"
      },
      "source": [
        "### Question  1.5\n",
        "\n",
        "Repeat the process above, only now using a UMAP projection with two components. Test all combinations of ```n_neighbors=[2, 10, 25]``` and ```min_dist=[0.1, 0.25, 0.5]``` over the train data and choose the projection that you think is best, and apply it over the test data. Use 1000 epochs, a cosine metric and random initialization. If you have more than 8GB of RAM (as in Colab), you may want to set ```low_memory=False``` to speed up computations.\n",
        "\n",
        "*Hint: [This link](https://stackoverflow.com/questions/16384109/iterate-over-all-combinations-of-values-in-multiple-lists-in-python) may be helpful.*\n",
        "\n"
      ]
    },
    {
      "cell_type": "code",
      "execution_count": 14,
      "id": "k5s0D9iuoFBT",
      "metadata": {
        "colab": {
          "base_uri": "https://localhost:8080/",
          "height": 439,
          "referenced_widgets": [
            "30b3ea8a257f4e4faa566c5d808bee90",
            "8987ee262af94becb7a7456dca1bb6da",
            "076edfd103c64b368c64baa849732782",
            "f0f87fe8ff9d42338f4f9a98c19a5155",
            "2353a81e28f74822a955419a94cb13c9",
            "a34cf50b5650428e9c4572214161e535",
            "389d9ea75f4646f7973afdedb06d0162",
            "aa1fb7afb49a45e988d1031093f6006b",
            "27f1bc8c27a6481188fec34df6e9dd40",
            "cdf674d73c0b411fab65789b0dbb6534",
            "9251bcecf47e4ab8abc3f94a13370ad6"
          ]
        },
        "id": "k5s0D9iuoFBT",
        "outputId": "42b30210-5e1e-4503-e9d2-a101db8d2ede"
      },
      "outputs": [
        {
          "name": "stdout",
          "output_type": "stream",
          "text": [
            "UMAP(angular_rp_forest=True, init='random', low_memory=False, metric='cosine', min_dist=0.25, n_epochs=1000, n_neighbors=25, random_state=0, verbose=True)\n",
            "Fri Dec  9 03:03:05 2022 Construct fuzzy simplicial set\n",
            "Fri Dec  9 03:03:06 2022 Finding Nearest Neighbors\n",
            "Fri Dec  9 03:03:10 2022 Finished Nearest Neighbor Search\n",
            "Fri Dec  9 03:03:18 2022 Construct embedding\n"
          ]
        },
        {
          "data": {
            "application/vnd.jupyter.widget-view+json": {
              "model_id": "30b3ea8a257f4e4faa566c5d808bee90",
              "version_major": 2,
              "version_minor": 0
            },
            "text/plain": [
              "Epochs completed:   0%|            0/1000 [00:00]"
            ]
          },
          "metadata": {},
          "output_type": "display_data"
        },
        {
          "name": "stdout",
          "output_type": "stream",
          "text": [
            "Fri Dec  9 03:03:36 2022 Finished embedding\n"
          ]
        },
        {
          "data": {
            "text/plain": [
              "<matplotlib.axes._subplots.AxesSubplot at 0x7fb0e3236340>"
            ]
          },
          "execution_count": 14,
          "metadata": {},
          "output_type": "execute_result"
        },
        {
          "data": {
            "image/png": "[encoded data removed]",
            "text/plain": [
              "<Figure size 432x288 with 1 Axes>"
            ]
          },
          "metadata": {
            "needs_background": "light"
          },
          "output_type": "display_data"
        }
      ],
      "source": [
        "# Set parameters\n",
        "n_neighbors=[2, 10, 25]\n",
        "min_dist=[0.1, 0.25, 0.5]\n",
        "\n",
        "# Create UMAP and plots [ / 8 marks]\n",
        "reducer = umap.UMAP(n_neighbors = n_neighbors[2],               \n",
        "                    n_components = 2,              \n",
        "                    metric = 'cosine',          \n",
        "                    n_epochs = 1000,               \n",
        "                    min_dist = min_dist[1],                \n",
        "                    spread = 1.0,                  \n",
        "                    low_memory = False,             \n",
        "                    n_jobs = -1,\n",
        "                    init = 'random',               \n",
        "                    random_state = seed,             \n",
        "                    verbose = True                 \n",
        "                   )\n",
        "\n",
        "# Now we train and calculate the embedding!\n",
        "UMAP_embedding = reducer.fit_transform(TFIDF_train)\n",
        "sns.scatterplot(x = UMAP_embedding[:, 0], y = UMAP_embedding[:, 1], hue = trainData['label'])"
      ]
    },
    {
      "attachments": {},
      "cell_type": "markdown",
      "id": "KyMYOAMf4l_E",
      "metadata": {
        "id": "KyMYOAMf4l_E"
      },
      "source": [
        "**Question:** Which paramter would you choose? [ / 2 makrs]\n",
        "\n",
        "**Your Answer:** n_neighbours = 25, min_dist = 0.25 as it gives a readable but good amount of data."
      ]
    },
    {
      "cell_type": "code",
      "execution_count": 15,
      "id": "-21cSLBty9gh",
      "metadata": {
        "colab": {
          "base_uri": "https://localhost:8080/",
          "height": 439,
          "referenced_widgets": [
            "67982ac46a96460eaf9f8c66f0419af1",
            "e7b56a91b88c4409a80e9f82174fd418",
            "22b75eaee2fc46989f5cb0b13bfe1d01",
            "401a67a89dcc49238b48e3296c0da06a",
            "3aaef411e37045e8b631c25b97b017a0",
            "451267f6120b426bb091554646e83029",
            "3d63b62df9e94f3cbbee5976d79c9955",
            "35681c68b8024705b7847e70083e8785",
            "d58c007f24e342bf9a72a61aa68d939e",
            "7024cb77949247ff9556def10968e62d",
            "491688192089493ba5ab6cbe9621e6a6"
          ]
        },
        "id": "-21cSLBty9gh",
        "outputId": "ce3f3fd0-d32b-4b26-dc6c-65cc0e375299"
      },
      "outputs": [
        {
          "name": "stdout",
          "output_type": "stream",
          "text": [
            "UMAP(angular_rp_forest=True, init='random', low_memory=False, metric='cosine', n_epochs=1000, n_neighbors=25, random_state=0, verbose=True)\n",
            "Fri Dec  9 03:03:37 2022 Construct fuzzy simplicial set\n",
            "Fri Dec  9 03:03:37 2022 Finding Nearest Neighbors\n",
            "Fri Dec  9 03:03:37 2022 Finished Nearest Neighbor Search\n",
            "Fri Dec  9 03:03:37 2022 Construct embedding\n"
          ]
        },
        {
          "data": {
            "application/vnd.jupyter.widget-view+json": {
              "model_id": "67982ac46a96460eaf9f8c66f0419af1",
              "version_major": 2,
              "version_minor": 0
            },
            "text/plain": [
              "Epochs completed:   0%|            0/1000 [00:00]"
            ]
          },
          "metadata": {},
          "output_type": "display_data"
        },
        {
          "name": "stdout",
          "output_type": "stream",
          "text": [
            "Fri Dec  9 03:03:43 2022 Finished embedding\n"
          ]
        },
        {
          "data": {
            "text/plain": [
              "<matplotlib.axes._subplots.AxesSubplot at 0x7fb0e4133b20>"
            ]
          },
          "execution_count": 15,
          "metadata": {},
          "output_type": "execute_result"
        },
        {
          "data": {
            "image/png": "[encoded data removed]",
            "text/plain": [
              "<Figure size 432x288 with 1 Axes>"
            ]
          },
          "metadata": {
            "needs_background": "light"
          },
          "output_type": "display_data"
        }
      ],
      "source": [
        "# Choose the paramters that you think are best and apply to test set [ / 4 marks]\n",
        "reducer = umap.UMAP(n_neighbors = n_neighbors[2],               \n",
        "                    n_components = 2,              \n",
        "                    metric = 'cosine',          \n",
        "                    n_epochs = 1000,               \n",
        "                    min_dist = min_dist[0],                \n",
        "                    spread = 1.0,                  \n",
        "                    low_memory = False,             \n",
        "                    n_jobs = -1,\n",
        "                    init = 'random',               \n",
        "                    random_state = seed,             \n",
        "                    verbose = True                 \n",
        "                   )\n",
        "UMAP_embedding = reducer.fit_transform(TFIDF_test)\n",
        "\n",
        "# Create plot [ /2 marks]\n",
        "sns.scatterplot(x = UMAP_embedding[:, 0], y = UMAP_embedding[:, 1], hue = testData['label'])"
      ]
    },
    {
      "attachments": {},
      "cell_type": "markdown",
      "id": "A40NKn9Y5tM9",
      "metadata": {
        "id": "A40NKn9Y5tM9"
      },
      "source": [
        "\n",
        "**Question:** How does the plot compare to the PCA one? [ /2 marks]\n",
        "\n",
        "**Your answer:** This plot is much more centered than the left leaning datapoints in the PCA plot. When using a high number of neighbours we can also start to see a much clearer distinction between the two sentiments."
      ]
    },
    {
      "attachments": {},
      "cell_type": "markdown",
      "id": "nuclear-landing",
      "metadata": {
        "id": "nuclear-landing"
      },
      "source": [
        "## Task 2: Benchmarking predictive capabilities of the compressed data [ / 34 marks]\n",
        "\n",
        "For this task, we will benchmark the predictive capabilities of the compressed data against the original one. \n"
      ]
    },
    {
      "attachments": {},
      "cell_type": "markdown",
      "id": "4137a1ce",
      "metadata": {
        "id": "4137a1ce"
      },
      "source": [
        "\n",
        "### Question 2.1 \n",
        "Train a regularized logistic regression over the original TfIDF train set (with no compression) using l2 regularization. Calculate the AUC score and plot the ROC curve for the original test set."
      ]
    },
    {
      "cell_type": "code",
      "execution_count": 16,
      "id": "frank-madison",
      "metadata": {
        "colab": {
          "base_uri": "https://localhost:8080/",
          "height": 282
        },
        "id": "frank-madison",
        "outputId": "2ca3e180-1c72-4a74-c854-7d6893dc20e0"
      },
      "outputs": [
        {
          "name": "stdout",
          "output_type": "stream",
          "text": [
            "AUC Score: 0.704099277794731\n"
          ]
        },
        {
          "data": {
            "image/png": "[encoded data removed]",
            "text/plain": [
              "<Figure size 432x288 with 1 Axes>"
            ]
          },
          "metadata": {
            "needs_background": "light"
          },
          "output_type": "display_data"
        }
      ],
      "source": [
        "# Train and test using model LogisticRegressionCV [ /4 marks]\n",
        "# Define the model\n",
        "# Fit on the training dataset\n",
        "logRegCV = LogisticRegressionCV(penalty = 'l2', random_state = seed).fit(TFIDF_train_q2, trainData['label'])\n",
        "\n",
        "# Apply to the test dataset\n",
        "pred = logRegCV.predict(TFIDF_test_q2)\n",
        "predprob = logRegCV.predict_proba(TFIDF_test_q2)[::, 1]\n",
        "\n",
        "# Plot ROC curve and compute AUC score [ /4 marks]\n",
        "# Calculate the ROC curve points and plot\n",
        "fpr, tpr, _ = roc_curve(testData['label'], predprob)\n",
        "plt.plot(fpr, tpr)\n",
        "\n",
        "# Calculate the AUC and print it\n",
        "auc = roc_auc_score(testData['label'], predprob)\n",
        "print(f'AUC Score: {auc}')\n",
        "\n"
      ]
    },
    {
      "attachments": {},
      "cell_type": "markdown",
      "id": "8d2f05ad",
      "metadata": {
        "id": "8d2f05ad"
      },
      "source": [
        "### Question 2.2 \n",
        "Train a regularized logistic regression over an SVD-reduced dataset (with 10 components) using l2 regularization. Calculate the AUC score and plot the ROC curve for the SVD-transformed test set."
      ]
    },
    {
      "cell_type": "code",
      "execution_count": 17,
      "id": "descending-picking",
      "metadata": {
        "colab": {
          "base_uri": "https://localhost:8080/",
          "height": 282
        },
        "id": "descending-picking",
        "outputId": "b1dabf80-6aa7-45e6-a63d-977e5c5891e7"
      },
      "outputs": [
        {
          "name": "stdout",
          "output_type": "stream",
          "text": [
            "AUC Score: 0.49364255925134776\n"
          ]
        },
        {
          "data": {
            "image/png": "[encoded data removed]",
            "text/plain": [
              "<Figure size 432x288 with 1 Axes>"
            ]
          },
          "metadata": {
            "needs_background": "light"
          },
          "output_type": "display_data"
        }
      ],
      "source": [
        "# Apply SVD first [ / 4 marks]\n",
        "svd = TruncatedSVD(n_components = 10, \n",
        "                   n_iter = 10,\n",
        "                   random_state = seed\n",
        "                  )\n",
        "TFIDF_train_q2_svd = svd.fit_transform(TFIDF_train_q2)\n",
        "TFIDF_test_q2_svd = svd.fit_transform(TFIDF_test_q2)\n",
        "\n",
        "# Train and test using model LogisticRegressionCV [ /4 marks]\n",
        "# Define the model\n",
        "logRegCV = LogisticRegressionCV(penalty = 'l2', random_state = seed).fit(TFIDF_train_q2_svd, trainData['label'])\n",
        "\n",
        "# Apply to the test dataset\n",
        "pred = logRegCV.predict(TFIDF_test_q2_svd)\n",
        "predprob = logRegCV.predict_proba(TFIDF_test_q2_svd)[::, 1]\n",
        "\n",
        "# Plot ROC curve and compute AUC score [ /4 marks]\n",
        "# Calculate the ROC curve points and plot\n",
        "fpr, tpr, _ = roc_curve(testData['label'], predprob)\n",
        "plt.plot(fpr, tpr)\n",
        "\n",
        "# Calculate the AUC and print it\n",
        "auc = roc_auc_score(testData['label'], predprob)\n",
        "print(f'AUC Score: {auc}')"
      ]
    },
    {
      "attachments": {},
      "cell_type": "markdown",
      "id": "814b2fc4",
      "metadata": {
        "id": "814b2fc4"
      },
      "source": [
        "### Question 2.3 \n",
        "Train a regularized logistic regression over the UMAP-reduced dataset (with 10 components using the same parameters as Task 1.5) using l2 regularization. Calculate the AUC score and plot the ROC curve for the UMAP-transformed test set."
      ]
    },
    {
      "cell_type": "code",
      "execution_count": 18,
      "id": "unnecessary-geology",
      "metadata": {
        "colab": {
          "base_uri": "https://localhost:8080/",
          "height": 1000,
          "referenced_widgets": [
            "7ffab478a669494da91de0d2b4ef64fc",
            "4dda47ea7343446da6c56d52ef6be598",
            "d4c8c810d2ff4f35b36ce62e6687698b",
            "2113062dbb8f412d9782b768cae43093",
            "74b82db8d16c48c58e3c38701d862c39",
            "3230a85780754fc19c267d25bac980a6",
            "bbd3be5f41ea42329965dacec03b6ebf",
            "d5a60e319fe141ef9c113b56b517d23b",
            "ed104df91ebf4a2c8ba7dce88ca6cbb1",
            "0b16418ecfa9417babfbe93fc0c2938a",
            "d01a618afc464fc3a5ee08aad0bb0669",
            "a0e245dd8aeb4db893bf05faae8cf664",
            "6fb07a8cfe08415685608861710a4ce7",
            "056b4c2ec127474496e32b95d1cd8c6d",
            "59493acafdca41a187885525cb137c73",
            "2ed2cbba1fbc4bd4a8eaaae5885db2a7",
            "2c6e83ef17554029bb87bf0c3de9e12b",
            "c7c09f12213c4fbbbc73cdbc14c6be36",
            "c5ad4f6baab6457ca185e8d6fe83c840",
            "e83c88bd375f4123bac195513a9120db",
            "32abd40f6c5b416b90e093866b1e80cc",
            "a84e9df402c341a69af4b491468ae7f3"
          ]
        },
        "id": "unnecessary-geology",
        "outputId": "36b2a746-6e36-4b20-b94a-8763d69bdfc5"
      },
      "outputs": [
        {
          "name": "stdout",
          "output_type": "stream",
          "text": [
            "UMAP(angular_rp_forest=True, init='random', low_memory=False, metric='cosine', n_components=10, n_epochs=1000, n_neighbors=25, random_state=0, verbose=True)\n",
            "Fri Dec  9 03:03:45 2022 Construct fuzzy simplicial set\n",
            "Fri Dec  9 03:03:45 2022 Finding Nearest Neighbors\n",
            "Fri Dec  9 03:03:47 2022 Finished Nearest Neighbor Search\n",
            "Fri Dec  9 03:03:47 2022 Construct embedding\n"
          ]
        },
        {
          "data": {
            "application/vnd.jupyter.widget-view+json": {
              "model_id": "7ffab478a669494da91de0d2b4ef64fc",
              "version_major": 2,
              "version_minor": 0
            },
            "text/plain": [
              "Epochs completed:   0%|            0/1000 [00:00]"
            ]
          },
          "metadata": {},
          "output_type": "display_data"
        },
        {
          "name": "stdout",
          "output_type": "stream",
          "text": [
            "Fri Dec  9 03:03:57 2022 Finished embedding\n",
            "UMAP(angular_rp_forest=True, init='random', low_memory=False, metric='cosine', n_components=10, n_epochs=1000, n_neighbors=25, random_state=0, verbose=True)\n",
            "Fri Dec  9 03:03:57 2022 Construct fuzzy simplicial set\n",
            "Fri Dec  9 03:03:57 2022 Finding Nearest Neighbors\n",
            "Fri Dec  9 03:03:57 2022 Finished Nearest Neighbor Search\n",
            "Fri Dec  9 03:03:57 2022 Construct embedding\n"
          ]
        },
        {
          "data": {
            "application/vnd.jupyter.widget-view+json": {
              "model_id": "a0e245dd8aeb4db893bf05faae8cf664",
              "version_major": 2,
              "version_minor": 0
            },
            "text/plain": [
              "Epochs completed:   0%|            0/1000 [00:00]"
            ]
          },
          "metadata": {},
          "output_type": "display_data"
        },
        {
          "name": "stdout",
          "output_type": "stream",
          "text": [
            "Fri Dec  9 03:04:00 2022 Finished embedding\n"
          ]
        },
        {
          "name": "stderr",
          "output_type": "stream",
          "text": [
            "/usr/local/lib/python3.8/dist-packages/sklearn/linear_model/_logistic.py:814: ConvergenceWarning: lbfgs failed to converge (status=1):\n",
            "STOP: TOTAL NO. of ITERATIONS REACHED LIMIT.\n",
            "\n",
            "Increase the number of iterations (max_iter) or scale the data as shown in:\n",
            "    https://scikit-learn.org/stable/modules/preprocessing.html\n",
            "Please also refer to the documentation for alternative solver options:\n",
            "    https://scikit-learn.org/stable/modules/linear_model.html#logistic-regression\n",
            "  n_iter_i = _check_optimize_result(\n",
            "/usr/local/lib/python3.8/dist-packages/sklearn/linear_model/_logistic.py:814: ConvergenceWarning: lbfgs failed to converge (status=1):\n",
            "STOP: TOTAL NO. of ITERATIONS REACHED LIMIT.\n",
            "\n",
            "Increase the number of iterations (max_iter) or scale the data as shown in:\n",
            "    https://scikit-learn.org/stable/modules/preprocessing.html\n",
            "Please also refer to the documentation for alternative solver options:\n",
            "    https://scikit-learn.org/stable/modules/linear_model.html#logistic-regression\n",
            "  n_iter_i = _check_optimize_result(\n",
            "/usr/local/lib/python3.8/dist-packages/sklearn/linear_model/_logistic.py:814: ConvergenceWarning: lbfgs failed to converge (status=1):\n",
            "STOP: TOTAL NO. of ITERATIONS REACHED LIMIT.\n",
            "\n",
            "Increase the number of iterations (max_iter) or scale the data as shown in:\n",
            "    https://scikit-learn.org/stable/modules/preprocessing.html\n",
            "Please also refer to the documentation for alternative solver options:\n",
            "    https://scikit-learn.org/stable/modules/linear_model.html#logistic-regression\n",
            "  n_iter_i = _check_optimize_result(\n",
            "/usr/local/lib/python3.8/dist-packages/sklearn/linear_model/_logistic.py:814: ConvergenceWarning: lbfgs failed to converge (status=1):\n",
            "STOP: TOTAL NO. of ITERATIONS REACHED LIMIT.\n",
            "\n",
            "Increase the number of iterations (max_iter) or scale the data as shown in:\n",
            "    https://scikit-learn.org/stable/modules/preprocessing.html\n",
            "Please also refer to the documentation for alternative solver options:\n",
            "    https://scikit-learn.org/stable/modules/linear_model.html#logistic-regression\n",
            "  n_iter_i = _check_optimize_result(\n",
            "/usr/local/lib/python3.8/dist-packages/sklearn/linear_model/_logistic.py:814: ConvergenceWarning: lbfgs failed to converge (status=1):\n",
            "STOP: TOTAL NO. of ITERATIONS REACHED LIMIT.\n",
            "\n",
            "Increase the number of iterations (max_iter) or scale the data as shown in:\n",
            "    https://scikit-learn.org/stable/modules/preprocessing.html\n",
            "Please also refer to the documentation for alternative solver options:\n",
            "    https://scikit-learn.org/stable/modules/linear_model.html#logistic-regression\n",
            "  n_iter_i = _check_optimize_result(\n",
            "/usr/local/lib/python3.8/dist-packages/sklearn/linear_model/_logistic.py:814: ConvergenceWarning: lbfgs failed to converge (status=1):\n",
            "STOP: TOTAL NO. of ITERATIONS REACHED LIMIT.\n",
            "\n",
            "Increase the number of iterations (max_iter) or scale the data as shown in:\n",
            "    https://scikit-learn.org/stable/modules/preprocessing.html\n",
            "Please also refer to the documentation for alternative solver options:\n",
            "    https://scikit-learn.org/stable/modules/linear_model.html#logistic-regression\n",
            "  n_iter_i = _check_optimize_result(\n",
            "/usr/local/lib/python3.8/dist-packages/sklearn/linear_model/_logistic.py:814: ConvergenceWarning: lbfgs failed to converge (status=1):\n",
            "STOP: TOTAL NO. of ITERATIONS REACHED LIMIT.\n",
            "\n",
            "Increase the number of iterations (max_iter) or scale the data as shown in:\n",
            "    https://scikit-learn.org/stable/modules/preprocessing.html\n",
            "Please also refer to the documentation for alternative solver options:\n",
            "    https://scikit-learn.org/stable/modules/linear_model.html#logistic-regression\n",
            "  n_iter_i = _check_optimize_result(\n",
            "/usr/local/lib/python3.8/dist-packages/sklearn/linear_model/_logistic.py:814: ConvergenceWarning: lbfgs failed to converge (status=1):\n",
            "STOP: TOTAL NO. of ITERATIONS REACHED LIMIT.\n",
            "\n",
            "Increase the number of iterations (max_iter) or scale the data as shown in:\n",
            "    https://scikit-learn.org/stable/modules/preprocessing.html\n",
            "Please also refer to the documentation for alternative solver options:\n",
            "    https://scikit-learn.org/stable/modules/linear_model.html#logistic-regression\n",
            "  n_iter_i = _check_optimize_result(\n",
            "/usr/local/lib/python3.8/dist-packages/sklearn/linear_model/_logistic.py:814: ConvergenceWarning: lbfgs failed to converge (status=1):\n",
            "STOP: TOTAL NO. of ITERATIONS REACHED LIMIT.\n",
            "\n",
            "Increase the number of iterations (max_iter) or scale the data as shown in:\n",
            "    https://scikit-learn.org/stable/modules/preprocessing.html\n",
            "Please also refer to the documentation for alternative solver options:\n",
            "    https://scikit-learn.org/stable/modules/linear_model.html#logistic-regression\n",
            "  n_iter_i = _check_optimize_result(\n",
            "/usr/local/lib/python3.8/dist-packages/sklearn/linear_model/_logistic.py:814: ConvergenceWarning: lbfgs failed to converge (status=1):\n",
            "STOP: TOTAL NO. of ITERATIONS REACHED LIMIT.\n",
            "\n",
            "Increase the number of iterations (max_iter) or scale the data as shown in:\n",
            "    https://scikit-learn.org/stable/modules/preprocessing.html\n",
            "Please also refer to the documentation for alternative solver options:\n",
            "    https://scikit-learn.org/stable/modules/linear_model.html#logistic-regression\n",
            "  n_iter_i = _check_optimize_result(\n",
            "/usr/local/lib/python3.8/dist-packages/sklearn/linear_model/_logistic.py:814: ConvergenceWarning: lbfgs failed to converge (status=1):\n",
            "STOP: TOTAL NO. of ITERATIONS REACHED LIMIT.\n",
            "\n",
            "Increase the number of iterations (max_iter) or scale the data as shown in:\n",
            "    https://scikit-learn.org/stable/modules/preprocessing.html\n",
            "Please also refer to the documentation for alternative solver options:\n",
            "    https://scikit-learn.org/stable/modules/linear_model.html#logistic-regression\n",
            "  n_iter_i = _check_optimize_result(\n",
            "/usr/local/lib/python3.8/dist-packages/sklearn/linear_model/_logistic.py:814: ConvergenceWarning: lbfgs failed to converge (status=1):\n",
            "STOP: TOTAL NO. of ITERATIONS REACHED LIMIT.\n",
            "\n",
            "Increase the number of iterations (max_iter) or scale the data as shown in:\n",
            "    https://scikit-learn.org/stable/modules/preprocessing.html\n",
            "Please also refer to the documentation for alternative solver options:\n",
            "    https://scikit-learn.org/stable/modules/linear_model.html#logistic-regression\n",
            "  n_iter_i = _check_optimize_result(\n",
            "/usr/local/lib/python3.8/dist-packages/sklearn/linear_model/_logistic.py:814: ConvergenceWarning: lbfgs failed to converge (status=1):\n",
            "STOP: TOTAL NO. of ITERATIONS REACHED LIMIT.\n",
            "\n",
            "Increase the number of iterations (max_iter) or scale the data as shown in:\n",
            "    https://scikit-learn.org/stable/modules/preprocessing.html\n",
            "Please also refer to the documentation for alternative solver options:\n",
            "    https://scikit-learn.org/stable/modules/linear_model.html#logistic-regression\n",
            "  n_iter_i = _check_optimize_result(\n"
          ]
        },
        {
          "name": "stdout",
          "output_type": "stream",
          "text": [
            "AUC Score: 0.5185637269860646\n"
          ]
        },
        {
          "data": {
            "image/png": "[encoded data removed]",
            "text/plain": [
              "<Figure size 432x288 with 1 Axes>"
            ]
          },
          "metadata": {
            "needs_background": "light"
          },
          "output_type": "display_data"
        }
      ],
      "source": [
        "# Apply UMAP first [ / 4 marks]\n",
        "reducer = umap.UMAP(n_neighbors = n_neighbors[2],               \n",
        "                    n_components = 10,              \n",
        "                    metric = 'cosine',          \n",
        "                    n_epochs = 1000,               \n",
        "                    min_dist = min_dist[0],                \n",
        "                    spread = 1.0,                  \n",
        "                    low_memory = False,             \n",
        "                    n_jobs = -1,\n",
        "                    init = 'random',               \n",
        "                    random_state = seed,             \n",
        "                    verbose = True                 \n",
        "                   )\n",
        "TFIDF_train_UMAP = reducer.fit_transform(TFIDF_train_q2)\n",
        "TFIDF_test_UMAP = reducer.fit_transform(TFIDF_test_q2)\n",
        "\n",
        "# Train and test using model LogisticRegressionCV [ /4 marks]\n",
        "# Define the model\n",
        "logRegCV = LogisticRegressionCV(penalty = 'l2', random_state = seed).fit(TFIDF_train_UMAP, trainData['label'])\n",
        "\n",
        "# Apply to the test dataset\n",
        "pred = logRegCV.predict(TFIDF_test_UMAP)\n",
        "predprob = logRegCV.predict_proba(TFIDF_test_UMAP)[::, 1]\n",
        "\n",
        "# Plot ROC curve and compute AUC score [ /4 marks]\n",
        "# Calculate the ROC curve points and plot\n",
        "fpr, tpr, _ = roc_curve(testData['label'], predprob)\n",
        "plt.plot(fpr, tpr)\n",
        "\n",
        "# Calculate the AUC and print it\n",
        "auc = roc_auc_score(testData['label'], predprob)\n",
        "print(f'AUC Score: {auc}')"
      ]
    },
    {
      "attachments": {},
      "cell_type": "markdown",
      "id": "damaged-peace",
      "metadata": {
        "id": "damaged-peace"
      },
      "source": [
        "### Question 2.4 \n",
        "Compare the performance of the three models. Which one is the best. [ / 2 marks] \n",
        "\n",
        "**Your Answer:** SVD had the worst model, with UMAP model in 2nd and the Q2.1 model being the best"
      ]
    }
  ],
  "metadata": {
    "colab": {
      "provenance": []
    },
    "kernelspec": {
      "display_name": "Python 3 (ipykernel)",
      "language": "python",
      "name": "python3"
    },
    "language_info": {
      "codemirror_mode": {
        "name": "ipython",
        "version": 3
      },
      "file_extension": ".py",
      "mimetype": "text/x-python",
      "name": "python",
      "nbconvert_exporter": "python",
      "pygments_lexer": "ipython3",
      "version": "3.9.7"
    },
    "latex_envs": {
      "LaTeX_envs_menu_present": true,
      "autoclose": false,
      "autocomplete": true,
      "bibliofile": "biblio.bib",
      "cite_by": "apalike",
      "current_citInitial": 1,
      "eqLabelWithNumbers": true,
      "eqNumInitial": 1,
      "hotkeys": {
        "equation": "Ctrl-E",
        "itemize": "Ctrl-I"
      },
      "labels_anchors": false,
      "latex_user_defs": false,
      "report_style_numbering": false,
      "user_envs_cfg": false
    },
    "toc": {
      "base_numbering": 1,
      "nav_menu": {},
      "number_sections": true,
      "sideBar": true,
      "skip_h1_title": false,
      "title_cell": "Table of Contents",
      "title_sidebar": "Contents",
      "toc_cell": false,
      "toc_position": {},
      "toc_section_display": true,
      "toc_window_display": false
    },
    "varInspector": {
      "cols": {
        "lenName": 16,
        "lenType": 16,
        "lenVar": 40
      },
      "kernels_config": {
        "python": {
          "delete_cmd_postfix": "",
          "delete_cmd_prefix": "del ",
          "library": "var_list.py",
          "varRefreshCmd": "print(var_dic_list())"
        },
        "r": {
          "delete_cmd_postfix": ") ",
          "delete_cmd_prefix": "rm(",
          "library": "var_list.r",
          "varRefreshCmd": "cat(var_dic_list()) "
        }
      },
      "types_to_exclude": [
        "module",
        "function",
        "builtin_function_or_method",
        "instance",
        "_Feature"
      ],
      "window_display": false
    },
    "vscode": {
      "interpreter": {
        "hash": "c1bb765f2992f8c3473d947572f750144adb783c35189567846adef00c3476ed"
      }
    },
    "widgets": {
      "application/vnd.jupyter.widget-state+json": {
        "056b4c2ec127474496e32b95d1cd8c6d": {
          "model_module": "@jupyter-widgets/controls",
          "model_module_version": "1.5.0",
          "model_name": "FloatProgressModel",
          "state": {
            "_dom_classes": [],
            "_model_module": "@jupyter-widgets/controls",
            "_model_module_version": "1.5.0",
            "_model_name": "FloatProgressModel",
            "_view_count": null,
            "_view_module": "@jupyter-widgets/controls",
            "_view_module_version": "1.5.0",
            "_view_name": "ProgressView",
            "bar_style": "success",
            "description": "",
            "description_tooltip": null,
            "layout": "IPY_MODEL_c5ad4f6baab6457ca185e8d6fe83c840",
            "max": 1000,
            "min": 0,
            "orientation": "horizontal",
            "style": "IPY_MODEL_e83c88bd375f4123bac195513a9120db",
            "value": 1000
          }
        },
        "076edfd103c64b368c64baa849732782": {
          "model_module": "@jupyter-widgets/controls",
          "model_module_version": "1.5.0",
          "model_name": "FloatProgressModel",
          "state": {
            "_dom_classes": [],
            "_model_module": "@jupyter-widgets/controls",
            "_model_module_version": "1.5.0",
            "_model_name": "FloatProgressModel",
            "_view_count": null,
            "_view_module": "@jupyter-widgets/controls",
            "_view_module_version": "1.5.0",
            "_view_name": "ProgressView",
            "bar_style": "success",
            "description": "",
            "description_tooltip": null,
            "layout": "IPY_MODEL_aa1fb7afb49a45e988d1031093f6006b",
            "max": 1000,
            "min": 0,
            "orientation": "horizontal",
            "style": "IPY_MODEL_27f1bc8c27a6481188fec34df6e9dd40",
            "value": 1000
          }
        },
        "0b16418ecfa9417babfbe93fc0c2938a": {
          "model_module": "@jupyter-widgets/base",
          "model_module_version": "1.2.0",
          "model_name": "LayoutModel",
          "state": {
            "_model_module": "@jupyter-widgets/base",
            "_model_module_version": "1.2.0",
            "_model_name": "LayoutModel",
            "_view_count": null,
            "_view_module": "@jupyter-widgets/base",
            "_view_module_version": "1.2.0",
            "_view_name": "LayoutView",
            "align_content": null,
            "align_items": null,
            "align_self": null,
            "border": null,
            "bottom": null,
            "display": null,
            "flex": null,
            "flex_flow": null,
            "grid_area": null,
            "grid_auto_columns": null,
            "grid_auto_flow": null,
            "grid_auto_rows": null,
            "grid_column": null,
            "grid_gap": null,
            "grid_row": null,
            "grid_template_areas": null,
            "grid_template_columns": null,
            "grid_template_rows": null,
            "height": null,
            "justify_content": null,
            "justify_items": null,
            "left": null,
            "margin": null,
            "max_height": null,
            "max_width": null,
            "min_height": null,
            "min_width": null,
            "object_fit": null,
            "object_position": null,
            "order": null,
            "overflow": null,
            "overflow_x": null,
            "overflow_y": null,
            "padding": null,
            "right": null,
            "top": null,
            "visibility": null,
            "width": null
          }
        },
        "2113062dbb8f412d9782b768cae43093": {
          "model_module": "@jupyter-widgets/controls",
          "model_module_version": "1.5.0",
          "model_name": "HTMLModel",
          "state": {
            "_dom_classes": [],
            "_model_module": "@jupyter-widgets/controls",
            "_model_module_version": "1.5.0",
            "_model_name": "HTMLModel",
            "_view_count": null,
            "_view_module": "@jupyter-widgets/controls",
            "_view_module_version": "1.5.0",
            "_view_name": "HTMLView",
            "description": "",
            "description_tooltip": null,
            "layout": "IPY_MODEL_0b16418ecfa9417babfbe93fc0c2938a",
            "placeholder": "​",
            "style": "IPY_MODEL_d01a618afc464fc3a5ee08aad0bb0669",
            "value": " 1000/1000 [00:09]"
          }
        },
        "22b75eaee2fc46989f5cb0b13bfe1d01": {
          "model_module": "@jupyter-widgets/controls",
          "model_module_version": "1.5.0",
          "model_name": "FloatProgressModel",
          "state": {
            "_dom_classes": [],
            "_model_module": "@jupyter-widgets/controls",
            "_model_module_version": "1.5.0",
            "_model_name": "FloatProgressModel",
            "_view_count": null,
            "_view_module": "@jupyter-widgets/controls",
            "_view_module_version": "1.5.0",
            "_view_name": "ProgressView",
            "bar_style": "success",
            "description": "",
            "description_tooltip": null,
            "layout": "IPY_MODEL_35681c68b8024705b7847e70083e8785",
            "max": 1000,
            "min": 0,
            "orientation": "horizontal",
            "style": "IPY_MODEL_d58c007f24e342bf9a72a61aa68d939e",
            "value": 1000
          }
        },
        "2353a81e28f74822a955419a94cb13c9": {
          "model_module": "@jupyter-widgets/base",
          "model_module_version": "1.2.0",
          "model_name": "LayoutModel",
          "state": {
            "_model_module": "@jupyter-widgets/base",
            "_model_module_version": "1.2.0",
            "_model_name": "LayoutModel",
            "_view_count": null,
            "_view_module": "@jupyter-widgets/base",
            "_view_module_version": "1.2.0",
            "_view_name": "LayoutView",
            "align_content": null,
            "align_items": null,
            "align_self": null,
            "border": null,
            "bottom": null,
            "display": null,
            "flex": null,
            "flex_flow": null,
            "grid_area": null,
            "grid_auto_columns": null,
            "grid_auto_flow": null,
            "grid_auto_rows": null,
            "grid_column": null,
            "grid_gap": null,
            "grid_row": null,
            "grid_template_areas": null,
            "grid_template_columns": null,
            "grid_template_rows": null,
            "height": null,
            "justify_content": null,
            "justify_items": null,
            "left": null,
            "margin": null,
            "max_height": null,
            "max_width": null,
            "min_height": null,
            "min_width": null,
            "object_fit": null,
            "object_position": null,
            "order": null,
            "overflow": null,
            "overflow_x": null,
            "overflow_y": null,
            "padding": null,
            "right": null,
            "top": null,
            "visibility": null,
            "width": null
          }
        },
        "27f1bc8c27a6481188fec34df6e9dd40": {
          "model_module": "@jupyter-widgets/controls",
          "model_module_version": "1.5.0",
          "model_name": "ProgressStyleModel",
          "state": {
            "_model_module": "@jupyter-widgets/controls",
            "_model_module_version": "1.5.0",
            "_model_name": "ProgressStyleModel",
            "_view_count": null,
            "_view_module": "@jupyter-widgets/base",
            "_view_module_version": "1.2.0",
            "_view_name": "StyleView",
            "bar_color": null,
            "description_width": ""
          }
        },
        "2c6e83ef17554029bb87bf0c3de9e12b": {
          "model_module": "@jupyter-widgets/base",
          "model_module_version": "1.2.0",
          "model_name": "LayoutModel",
          "state": {
            "_model_module": "@jupyter-widgets/base",
            "_model_module_version": "1.2.0",
            "_model_name": "LayoutModel",
            "_view_count": null,
            "_view_module": "@jupyter-widgets/base",
            "_view_module_version": "1.2.0",
            "_view_name": "LayoutView",
            "align_content": null,
            "align_items": null,
            "align_self": null,
            "border": null,
            "bottom": null,
            "display": null,
            "flex": null,
            "flex_flow": null,
            "grid_area": null,
            "grid_auto_columns": null,
            "grid_auto_flow": null,
            "grid_auto_rows": null,
            "grid_column": null,
            "grid_gap": null,
            "grid_row": null,
            "grid_template_areas": null,
            "grid_template_columns": null,
            "grid_template_rows": null,
            "height": null,
            "justify_content": null,
            "justify_items": null,
            "left": null,
            "margin": null,
            "max_height": null,
            "max_width": null,
            "min_height": null,
            "min_width": null,
            "object_fit": null,
            "object_position": null,
            "order": null,
            "overflow": null,
            "overflow_x": null,
            "overflow_y": null,
            "padding": null,
            "right": null,
            "top": null,
            "visibility": null,
            "width": null
          }
        },
        "2ed2cbba1fbc4bd4a8eaaae5885db2a7": {
          "model_module": "@jupyter-widgets/base",
          "model_module_version": "1.2.0",
          "model_name": "LayoutModel",
          "state": {
            "_model_module": "@jupyter-widgets/base",
            "_model_module_version": "1.2.0",
            "_model_name": "LayoutModel",
            "_view_count": null,
            "_view_module": "@jupyter-widgets/base",
            "_view_module_version": "1.2.0",
            "_view_name": "LayoutView",
            "align_content": null,
            "align_items": null,
            "align_self": null,
            "border": null,
            "bottom": null,
            "display": null,
            "flex": null,
            "flex_flow": null,
            "grid_area": null,
            "grid_auto_columns": null,
            "grid_auto_flow": null,
            "grid_auto_rows": null,
            "grid_column": null,
            "grid_gap": null,
            "grid_row": null,
            "grid_template_areas": null,
            "grid_template_columns": null,
            "grid_template_rows": null,
            "height": null,
            "justify_content": null,
            "justify_items": null,
            "left": null,
            "margin": null,
            "max_height": null,
            "max_width": null,
            "min_height": null,
            "min_width": null,
            "object_fit": null,
            "object_position": null,
            "order": null,
            "overflow": null,
            "overflow_x": null,
            "overflow_y": null,
            "padding": null,
            "right": null,
            "top": null,
            "visibility": null,
            "width": null
          }
        },
        "30b3ea8a257f4e4faa566c5d808bee90": {
          "model_module": "@jupyter-widgets/controls",
          "model_module_version": "1.5.0",
          "model_name": "HBoxModel",
          "state": {
            "_dom_classes": [],
            "_model_module": "@jupyter-widgets/controls",
            "_model_module_version": "1.5.0",
            "_model_name": "HBoxModel",
            "_view_count": null,
            "_view_module": "@jupyter-widgets/controls",
            "_view_module_version": "1.5.0",
            "_view_name": "HBoxView",
            "box_style": "",
            "children": [
              "IPY_MODEL_8987ee262af94becb7a7456dca1bb6da",
              "IPY_MODEL_076edfd103c64b368c64baa849732782",
              "IPY_MODEL_f0f87fe8ff9d42338f4f9a98c19a5155"
            ],
            "layout": "IPY_MODEL_2353a81e28f74822a955419a94cb13c9"
          }
        },
        "3230a85780754fc19c267d25bac980a6": {
          "model_module": "@jupyter-widgets/base",
          "model_module_version": "1.2.0",
          "model_name": "LayoutModel",
          "state": {
            "_model_module": "@jupyter-widgets/base",
            "_model_module_version": "1.2.0",
            "_model_name": "LayoutModel",
            "_view_count": null,
            "_view_module": "@jupyter-widgets/base",
            "_view_module_version": "1.2.0",
            "_view_name": "LayoutView",
            "align_content": null,
            "align_items": null,
            "align_self": null,
            "border": null,
            "bottom": null,
            "display": null,
            "flex": null,
            "flex_flow": null,
            "grid_area": null,
            "grid_auto_columns": null,
            "grid_auto_flow": null,
            "grid_auto_rows": null,
            "grid_column": null,
            "grid_gap": null,
            "grid_row": null,
            "grid_template_areas": null,
            "grid_template_columns": null,
            "grid_template_rows": null,
            "height": null,
            "justify_content": null,
            "justify_items": null,
            "left": null,
            "margin": null,
            "max_height": null,
            "max_width": null,
            "min_height": null,
            "min_width": null,
            "object_fit": null,
            "object_position": null,
            "order": null,
            "overflow": null,
            "overflow_x": null,
            "overflow_y": null,
            "padding": null,
            "right": null,
            "top": null,
            "visibility": null,
            "width": null
          }
        },
        "32abd40f6c5b416b90e093866b1e80cc": {
          "model_module": "@jupyter-widgets/base",
          "model_module_version": "1.2.0",
          "model_name": "LayoutModel",
          "state": {
            "_model_module": "@jupyter-widgets/base",
            "_model_module_version": "1.2.0",
            "_model_name": "LayoutModel",
            "_view_count": null,
            "_view_module": "@jupyter-widgets/base",
            "_view_module_version": "1.2.0",
            "_view_name": "LayoutView",
            "align_content": null,
            "align_items": null,
            "align_self": null,
            "border": null,
            "bottom": null,
            "display": null,
            "flex": null,
            "flex_flow": null,
            "grid_area": null,
            "grid_auto_columns": null,
            "grid_auto_flow": null,
            "grid_auto_rows": null,
            "grid_column": null,
            "grid_gap": null,
            "grid_row": null,
            "grid_template_areas": null,
            "grid_template_columns": null,
            "grid_template_rows": null,
            "height": null,
            "justify_content": null,
            "justify_items": null,
            "left": null,
            "margin": null,
            "max_height": null,
            "max_width": null,
            "min_height": null,
            "min_width": null,
            "object_fit": null,
            "object_position": null,
            "order": null,
            "overflow": null,
            "overflow_x": null,
            "overflow_y": null,
            "padding": null,
            "right": null,
            "top": null,
            "visibility": null,
            "width": null
          }
        },
        "35681c68b8024705b7847e70083e8785": {
          "model_module": "@jupyter-widgets/base",
          "model_module_version": "1.2.0",
          "model_name": "LayoutModel",
          "state": {
            "_model_module": "@jupyter-widgets/base",
            "_model_module_version": "1.2.0",
            "_model_name": "LayoutModel",
            "_view_count": null,
            "_view_module": "@jupyter-widgets/base",
            "_view_module_version": "1.2.0",
            "_view_name": "LayoutView",
            "align_content": null,
            "align_items": null,
            "align_self": null,
            "border": null,
            "bottom": null,
            "display": null,
            "flex": null,
            "flex_flow": null,
            "grid_area": null,
            "grid_auto_columns": null,
            "grid_auto_flow": null,
            "grid_auto_rows": null,
            "grid_column": null,
            "grid_gap": null,
            "grid_row": null,
            "grid_template_areas": null,
            "grid_template_columns": null,
            "grid_template_rows": null,
            "height": null,
            "justify_content": null,
            "justify_items": null,
            "left": null,
            "margin": null,
            "max_height": null,
            "max_width": null,
            "min_height": null,
            "min_width": null,
            "object_fit": null,
            "object_position": null,
            "order": null,
            "overflow": null,
            "overflow_x": null,
            "overflow_y": null,
            "padding": null,
            "right": null,
            "top": null,
            "visibility": null,
            "width": null
          }
        },
        "389d9ea75f4646f7973afdedb06d0162": {
          "model_module": "@jupyter-widgets/controls",
          "model_module_version": "1.5.0",
          "model_name": "DescriptionStyleModel",
          "state": {
            "_model_module": "@jupyter-widgets/controls",
            "_model_module_version": "1.5.0",
            "_model_name": "DescriptionStyleModel",
            "_view_count": null,
            "_view_module": "@jupyter-widgets/base",
            "_view_module_version": "1.2.0",
            "_view_name": "StyleView",
            "description_width": ""
          }
        },
        "3aaef411e37045e8b631c25b97b017a0": {
          "model_module": "@jupyter-widgets/base",
          "model_module_version": "1.2.0",
          "model_name": "LayoutModel",
          "state": {
            "_model_module": "@jupyter-widgets/base",
            "_model_module_version": "1.2.0",
            "_model_name": "LayoutModel",
            "_view_count": null,
            "_view_module": "@jupyter-widgets/base",
            "_view_module_version": "1.2.0",
            "_view_name": "LayoutView",
            "align_content": null,
            "align_items": null,
            "align_self": null,
            "border": null,
            "bottom": null,
            "display": null,
            "flex": null,
            "flex_flow": null,
            "grid_area": null,
            "grid_auto_columns": null,
            "grid_auto_flow": null,
            "grid_auto_rows": null,
            "grid_column": null,
            "grid_gap": null,
            "grid_row": null,
            "grid_template_areas": null,
            "grid_template_columns": null,
            "grid_template_rows": null,
            "height": null,
            "justify_content": null,
            "justify_items": null,
            "left": null,
            "margin": null,
            "max_height": null,
            "max_width": null,
            "min_height": null,
            "min_width": null,
            "object_fit": null,
            "object_position": null,
            "order": null,
            "overflow": null,
            "overflow_x": null,
            "overflow_y": null,
            "padding": null,
            "right": null,
            "top": null,
            "visibility": null,
            "width": null
          }
        },
        "3d63b62df9e94f3cbbee5976d79c9955": {
          "model_module": "@jupyter-widgets/controls",
          "model_module_version": "1.5.0",
          "model_name": "DescriptionStyleModel",
          "state": {
            "_model_module": "@jupyter-widgets/controls",
            "_model_module_version": "1.5.0",
            "_model_name": "DescriptionStyleModel",
            "_view_count": null,
            "_view_module": "@jupyter-widgets/base",
            "_view_module_version": "1.2.0",
            "_view_name": "StyleView",
            "description_width": ""
          }
        },
        "401a67a89dcc49238b48e3296c0da06a": {
          "model_module": "@jupyter-widgets/controls",
          "model_module_version": "1.5.0",
          "model_name": "HTMLModel",
          "state": {
            "_dom_classes": [],
            "_model_module": "@jupyter-widgets/controls",
            "_model_module_version": "1.5.0",
            "_model_name": "HTMLModel",
            "_view_count": null,
            "_view_module": "@jupyter-widgets/controls",
            "_view_module_version": "1.5.0",
            "_view_name": "HTMLView",
            "description": "",
            "description_tooltip": null,
            "layout": "IPY_MODEL_7024cb77949247ff9556def10968e62d",
            "placeholder": "​",
            "style": "IPY_MODEL_491688192089493ba5ab6cbe9621e6a6",
            "value": " 1000/1000 [00:05]"
          }
        },
        "451267f6120b426bb091554646e83029": {
          "model_module": "@jupyter-widgets/base",
          "model_module_version": "1.2.0",
          "model_name": "LayoutModel",
          "state": {
            "_model_module": "@jupyter-widgets/base",
            "_model_module_version": "1.2.0",
            "_model_name": "LayoutModel",
            "_view_count": null,
            "_view_module": "@jupyter-widgets/base",
            "_view_module_version": "1.2.0",
            "_view_name": "LayoutView",
            "align_content": null,
            "align_items": null,
            "align_self": null,
            "border": null,
            "bottom": null,
            "display": null,
            "flex": null,
            "flex_flow": null,
            "grid_area": null,
            "grid_auto_columns": null,
            "grid_auto_flow": null,
            "grid_auto_rows": null,
            "grid_column": null,
            "grid_gap": null,
            "grid_row": null,
            "grid_template_areas": null,
            "grid_template_columns": null,
            "grid_template_rows": null,
            "height": null,
            "justify_content": null,
            "justify_items": null,
            "left": null,
            "margin": null,
            "max_height": null,
            "max_width": null,
            "min_height": null,
            "min_width": null,
            "object_fit": null,
            "object_position": null,
            "order": null,
            "overflow": null,
            "overflow_x": null,
            "overflow_y": null,
            "padding": null,
            "right": null,
            "top": null,
            "visibility": null,
            "width": null
          }
        },
        "491688192089493ba5ab6cbe9621e6a6": {
          "model_module": "@jupyter-widgets/controls",
          "model_module_version": "1.5.0",
          "model_name": "DescriptionStyleModel",
          "state": {
            "_model_module": "@jupyter-widgets/controls",
            "_model_module_version": "1.5.0",
            "_model_name": "DescriptionStyleModel",
            "_view_count": null,
            "_view_module": "@jupyter-widgets/base",
            "_view_module_version": "1.2.0",
            "_view_name": "StyleView",
            "description_width": ""
          }
        },
        "4dda47ea7343446da6c56d52ef6be598": {
          "model_module": "@jupyter-widgets/controls",
          "model_module_version": "1.5.0",
          "model_name": "HTMLModel",
          "state": {
            "_dom_classes": [],
            "_model_module": "@jupyter-widgets/controls",
            "_model_module_version": "1.5.0",
            "_model_name": "HTMLModel",
            "_view_count": null,
            "_view_module": "@jupyter-widgets/controls",
            "_view_module_version": "1.5.0",
            "_view_name": "HTMLView",
            "description": "",
            "description_tooltip": null,
            "layout": "IPY_MODEL_3230a85780754fc19c267d25bac980a6",
            "placeholder": "​",
            "style": "IPY_MODEL_bbd3be5f41ea42329965dacec03b6ebf",
            "value": "Epochs completed: 100%| "
          }
        },
        "59493acafdca41a187885525cb137c73": {
          "model_module": "@jupyter-widgets/controls",
          "model_module_version": "1.5.0",
          "model_name": "HTMLModel",
          "state": {
            "_dom_classes": [],
            "_model_module": "@jupyter-widgets/controls",
            "_model_module_version": "1.5.0",
            "_model_name": "HTMLModel",
            "_view_count": null,
            "_view_module": "@jupyter-widgets/controls",
            "_view_module_version": "1.5.0",
            "_view_name": "HTMLView",
            "description": "",
            "description_tooltip": null,
            "layout": "IPY_MODEL_32abd40f6c5b416b90e093866b1e80cc",
            "placeholder": "​",
            "style": "IPY_MODEL_a84e9df402c341a69af4b491468ae7f3",
            "value": " 1000/1000 [00:03]"
          }
        },
        "67982ac46a96460eaf9f8c66f0419af1": {
          "model_module": "@jupyter-widgets/controls",
          "model_module_version": "1.5.0",
          "model_name": "HBoxModel",
          "state": {
            "_dom_classes": [],
            "_model_module": "@jupyter-widgets/controls",
            "_model_module_version": "1.5.0",
            "_model_name": "HBoxModel",
            "_view_count": null,
            "_view_module": "@jupyter-widgets/controls",
            "_view_module_version": "1.5.0",
            "_view_name": "HBoxView",
            "box_style": "",
            "children": [
              "IPY_MODEL_e7b56a91b88c4409a80e9f82174fd418",
              "IPY_MODEL_22b75eaee2fc46989f5cb0b13bfe1d01",
              "IPY_MODEL_401a67a89dcc49238b48e3296c0da06a"
            ],
            "layout": "IPY_MODEL_3aaef411e37045e8b631c25b97b017a0"
          }
        },
        "6fb07a8cfe08415685608861710a4ce7": {
          "model_module": "@jupyter-widgets/controls",
          "model_module_version": "1.5.0",
          "model_name": "HTMLModel",
          "state": {
            "_dom_classes": [],
            "_model_module": "@jupyter-widgets/controls",
            "_model_module_version": "1.5.0",
            "_model_name": "HTMLModel",
            "_view_count": null,
            "_view_module": "@jupyter-widgets/controls",
            "_view_module_version": "1.5.0",
            "_view_name": "HTMLView",
            "description": "",
            "description_tooltip": null,
            "layout": "IPY_MODEL_2c6e83ef17554029bb87bf0c3de9e12b",
            "placeholder": "​",
            "style": "IPY_MODEL_c7c09f12213c4fbbbc73cdbc14c6be36",
            "value": "Epochs completed: 100%| "
          }
        },
        "7024cb77949247ff9556def10968e62d": {
          "model_module": "@jupyter-widgets/base",
          "model_module_version": "1.2.0",
          "model_name": "LayoutModel",
          "state": {
            "_model_module": "@jupyter-widgets/base",
            "_model_module_version": "1.2.0",
            "_model_name": "LayoutModel",
            "_view_count": null,
            "_view_module": "@jupyter-widgets/base",
            "_view_module_version": "1.2.0",
            "_view_name": "LayoutView",
            "align_content": null,
            "align_items": null,
            "align_self": null,
            "border": null,
            "bottom": null,
            "display": null,
            "flex": null,
            "flex_flow": null,
            "grid_area": null,
            "grid_auto_columns": null,
            "grid_auto_flow": null,
            "grid_auto_rows": null,
            "grid_column": null,
            "grid_gap": null,
            "grid_row": null,
            "grid_template_areas": null,
            "grid_template_columns": null,
            "grid_template_rows": null,
            "height": null,
            "justify_content": null,
            "justify_items": null,
            "left": null,
            "margin": null,
            "max_height": null,
            "max_width": null,
            "min_height": null,
            "min_width": null,
            "object_fit": null,
            "object_position": null,
            "order": null,
            "overflow": null,
            "overflow_x": null,
            "overflow_y": null,
            "padding": null,
            "right": null,
            "top": null,
            "visibility": null,
            "width": null
          }
        },
        "74b82db8d16c48c58e3c38701d862c39": {
          "model_module": "@jupyter-widgets/base",
          "model_module_version": "1.2.0",
          "model_name": "LayoutModel",
          "state": {
            "_model_module": "@jupyter-widgets/base",
            "_model_module_version": "1.2.0",
            "_model_name": "LayoutModel",
            "_view_count": null,
            "_view_module": "@jupyter-widgets/base",
            "_view_module_version": "1.2.0",
            "_view_name": "LayoutView",
            "align_content": null,
            "align_items": null,
            "align_self": null,
            "border": null,
            "bottom": null,
            "display": null,
            "flex": null,
            "flex_flow": null,
            "grid_area": null,
            "grid_auto_columns": null,
            "grid_auto_flow": null,
            "grid_auto_rows": null,
            "grid_column": null,
            "grid_gap": null,
            "grid_row": null,
            "grid_template_areas": null,
            "grid_template_columns": null,
            "grid_template_rows": null,
            "height": null,
            "justify_content": null,
            "justify_items": null,
            "left": null,
            "margin": null,
            "max_height": null,
            "max_width": null,
            "min_height": null,
            "min_width": null,
            "object_fit": null,
            "object_position": null,
            "order": null,
            "overflow": null,
            "overflow_x": null,
            "overflow_y": null,
            "padding": null,
            "right": null,
            "top": null,
            "visibility": null,
            "width": null
          }
        },
        "7ffab478a669494da91de0d2b4ef64fc": {
          "model_module": "@jupyter-widgets/controls",
          "model_module_version": "1.5.0",
          "model_name": "HBoxModel",
          "state": {
            "_dom_classes": [],
            "_model_module": "@jupyter-widgets/controls",
            "_model_module_version": "1.5.0",
            "_model_name": "HBoxModel",
            "_view_count": null,
            "_view_module": "@jupyter-widgets/controls",
            "_view_module_version": "1.5.0",
            "_view_name": "HBoxView",
            "box_style": "",
            "children": [
              "IPY_MODEL_4dda47ea7343446da6c56d52ef6be598",
              "IPY_MODEL_d4c8c810d2ff4f35b36ce62e6687698b",
              "IPY_MODEL_2113062dbb8f412d9782b768cae43093"
            ],
            "layout": "IPY_MODEL_74b82db8d16c48c58e3c38701d862c39"
          }
        },
        "8987ee262af94becb7a7456dca1bb6da": {
          "model_module": "@jupyter-widgets/controls",
          "model_module_version": "1.5.0",
          "model_name": "HTMLModel",
          "state": {
            "_dom_classes": [],
            "_model_module": "@jupyter-widgets/controls",
            "_model_module_version": "1.5.0",
            "_model_name": "HTMLModel",
            "_view_count": null,
            "_view_module": "@jupyter-widgets/controls",
            "_view_module_version": "1.5.0",
            "_view_name": "HTMLView",
            "description": "",
            "description_tooltip": null,
            "layout": "IPY_MODEL_a34cf50b5650428e9c4572214161e535",
            "placeholder": "​",
            "style": "IPY_MODEL_389d9ea75f4646f7973afdedb06d0162",
            "value": "Epochs completed: 100%| "
          }
        },
        "9251bcecf47e4ab8abc3f94a13370ad6": {
          "model_module": "@jupyter-widgets/controls",
          "model_module_version": "1.5.0",
          "model_name": "DescriptionStyleModel",
          "state": {
            "_model_module": "@jupyter-widgets/controls",
            "_model_module_version": "1.5.0",
            "_model_name": "DescriptionStyleModel",
            "_view_count": null,
            "_view_module": "@jupyter-widgets/base",
            "_view_module_version": "1.2.0",
            "_view_name": "StyleView",
            "description_width": ""
          }
        },
        "a0e245dd8aeb4db893bf05faae8cf664": {
          "model_module": "@jupyter-widgets/controls",
          "model_module_version": "1.5.0",
          "model_name": "HBoxModel",
          "state": {
            "_dom_classes": [],
            "_model_module": "@jupyter-widgets/controls",
            "_model_module_version": "1.5.0",
            "_model_name": "HBoxModel",
            "_view_count": null,
            "_view_module": "@jupyter-widgets/controls",
            "_view_module_version": "1.5.0",
            "_view_name": "HBoxView",
            "box_style": "",
            "children": [
              "IPY_MODEL_6fb07a8cfe08415685608861710a4ce7",
              "IPY_MODEL_056b4c2ec127474496e32b95d1cd8c6d",
              "IPY_MODEL_59493acafdca41a187885525cb137c73"
            ],
            "layout": "IPY_MODEL_2ed2cbba1fbc4bd4a8eaaae5885db2a7"
          }
        },
        "a34cf50b5650428e9c4572214161e535": {
          "model_module": "@jupyter-widgets/base",
          "model_module_version": "1.2.0",
          "model_name": "LayoutModel",
          "state": {
            "_model_module": "@jupyter-widgets/base",
            "_model_module_version": "1.2.0",
            "_model_name": "LayoutModel",
            "_view_count": null,
            "_view_module": "@jupyter-widgets/base",
            "_view_module_version": "1.2.0",
            "_view_name": "LayoutView",
            "align_content": null,
            "align_items": null,
            "align_self": null,
            "border": null,
            "bottom": null,
            "display": null,
            "flex": null,
            "flex_flow": null,
            "grid_area": null,
            "grid_auto_columns": null,
            "grid_auto_flow": null,
            "grid_auto_rows": null,
            "grid_column": null,
            "grid_gap": null,
            "grid_row": null,
            "grid_template_areas": null,
            "grid_template_columns": null,
            "grid_template_rows": null,
            "height": null,
            "justify_content": null,
            "justify_items": null,
            "left": null,
            "margin": null,
            "max_height": null,
            "max_width": null,
            "min_height": null,
            "min_width": null,
            "object_fit": null,
            "object_position": null,
            "order": null,
            "overflow": null,
            "overflow_x": null,
            "overflow_y": null,
            "padding": null,
            "right": null,
            "top": null,
            "visibility": null,
            "width": null
          }
        },
        "a84e9df402c341a69af4b491468ae7f3": {
          "model_module": "@jupyter-widgets/controls",
          "model_module_version": "1.5.0",
          "model_name": "DescriptionStyleModel",
          "state": {
            "_model_module": "@jupyter-widgets/controls",
            "_model_module_version": "1.5.0",
            "_model_name": "DescriptionStyleModel",
            "_view_count": null,
            "_view_module": "@jupyter-widgets/base",
            "_view_module_version": "1.2.0",
            "_view_name": "StyleView",
            "description_width": ""
          }
        },
        "aa1fb7afb49a45e988d1031093f6006b": {
          "model_module": "@jupyter-widgets/base",
          "model_module_version": "1.2.0",
          "model_name": "LayoutModel",
          "state": {
            "_model_module": "@jupyter-widgets/base",
            "_model_module_version": "1.2.0",
            "_model_name": "LayoutModel",
            "_view_count": null,
            "_view_module": "@jupyter-widgets/base",
            "_view_module_version": "1.2.0",
            "_view_name": "LayoutView",
            "align_content": null,
            "align_items": null,
            "align_self": null,
            "border": null,
            "bottom": null,
            "display": null,
            "flex": null,
            "flex_flow": null,
            "grid_area": null,
            "grid_auto_columns": null,
            "grid_auto_flow": null,
            "grid_auto_rows": null,
            "grid_column": null,
            "grid_gap": null,
            "grid_row": null,
            "grid_template_areas": null,
            "grid_template_columns": null,
            "grid_template_rows": null,
            "height": null,
            "justify_content": null,
            "justify_items": null,
            "left": null,
            "margin": null,
            "max_height": null,
            "max_width": null,
            "min_height": null,
            "min_width": null,
            "object_fit": null,
            "object_position": null,
            "order": null,
            "overflow": null,
            "overflow_x": null,
            "overflow_y": null,
            "padding": null,
            "right": null,
            "top": null,
            "visibility": null,
            "width": null
          }
        },
        "bbd3be5f41ea42329965dacec03b6ebf": {
          "model_module": "@jupyter-widgets/controls",
          "model_module_version": "1.5.0",
          "model_name": "DescriptionStyleModel",
          "state": {
            "_model_module": "@jupyter-widgets/controls",
            "_model_module_version": "1.5.0",
            "_model_name": "DescriptionStyleModel",
            "_view_count": null,
            "_view_module": "@jupyter-widgets/base",
            "_view_module_version": "1.2.0",
            "_view_name": "StyleView",
            "description_width": ""
          }
        },
        "c5ad4f6baab6457ca185e8d6fe83c840": {
          "model_module": "@jupyter-widgets/base",
          "model_module_version": "1.2.0",
          "model_name": "LayoutModel",
          "state": {
            "_model_module": "@jupyter-widgets/base",
            "_model_module_version": "1.2.0",
            "_model_name": "LayoutModel",
            "_view_count": null,
            "_view_module": "@jupyter-widgets/base",
            "_view_module_version": "1.2.0",
            "_view_name": "LayoutView",
            "align_content": null,
            "align_items": null,
            "align_self": null,
            "border": null,
            "bottom": null,
            "display": null,
            "flex": null,
            "flex_flow": null,
            "grid_area": null,
            "grid_auto_columns": null,
            "grid_auto_flow": null,
            "grid_auto_rows": null,
            "grid_column": null,
            "grid_gap": null,
            "grid_row": null,
            "grid_template_areas": null,
            "grid_template_columns": null,
            "grid_template_rows": null,
            "height": null,
            "justify_content": null,
            "justify_items": null,
            "left": null,
            "margin": null,
            "max_height": null,
            "max_width": null,
            "min_height": null,
            "min_width": null,
            "object_fit": null,
            "object_position": null,
            "order": null,
            "overflow": null,
            "overflow_x": null,
            "overflow_y": null,
            "padding": null,
            "right": null,
            "top": null,
            "visibility": null,
            "width": null
          }
        },
        "c7c09f12213c4fbbbc73cdbc14c6be36": {
          "model_module": "@jupyter-widgets/controls",
          "model_module_version": "1.5.0",
          "model_name": "DescriptionStyleModel",
          "state": {
            "_model_module": "@jupyter-widgets/controls",
            "_model_module_version": "1.5.0",
            "_model_name": "DescriptionStyleModel",
            "_view_count": null,
            "_view_module": "@jupyter-widgets/base",
            "_view_module_version": "1.2.0",
            "_view_name": "StyleView",
            "description_width": ""
          }
        },
        "cdf674d73c0b411fab65789b0dbb6534": {
          "model_module": "@jupyter-widgets/base",
          "model_module_version": "1.2.0",
          "model_name": "LayoutModel",
          "state": {
            "_model_module": "@jupyter-widgets/base",
            "_model_module_version": "1.2.0",
            "_model_name": "LayoutModel",
            "_view_count": null,
            "_view_module": "@jupyter-widgets/base",
            "_view_module_version": "1.2.0",
            "_view_name": "LayoutView",
            "align_content": null,
            "align_items": null,
            "align_self": null,
            "border": null,
            "bottom": null,
            "display": null,
            "flex": null,
            "flex_flow": null,
            "grid_area": null,
            "grid_auto_columns": null,
            "grid_auto_flow": null,
            "grid_auto_rows": null,
            "grid_column": null,
            "grid_gap": null,
            "grid_row": null,
            "grid_template_areas": null,
            "grid_template_columns": null,
            "grid_template_rows": null,
            "height": null,
            "justify_content": null,
            "justify_items": null,
            "left": null,
            "margin": null,
            "max_height": null,
            "max_width": null,
            "min_height": null,
            "min_width": null,
            "object_fit": null,
            "object_position": null,
            "order": null,
            "overflow": null,
            "overflow_x": null,
            "overflow_y": null,
            "padding": null,
            "right": null,
            "top": null,
            "visibility": null,
            "width": null
          }
        },
        "d01a618afc464fc3a5ee08aad0bb0669": {
          "model_module": "@jupyter-widgets/controls",
          "model_module_version": "1.5.0",
          "model_name": "DescriptionStyleModel",
          "state": {
            "_model_module": "@jupyter-widgets/controls",
            "_model_module_version": "1.5.0",
            "_model_name": "DescriptionStyleModel",
            "_view_count": null,
            "_view_module": "@jupyter-widgets/base",
            "_view_module_version": "1.2.0",
            "_view_name": "StyleView",
            "description_width": ""
          }
        },
        "d4c8c810d2ff4f35b36ce62e6687698b": {
          "model_module": "@jupyter-widgets/controls",
          "model_module_version": "1.5.0",
          "model_name": "FloatProgressModel",
          "state": {
            "_dom_classes": [],
            "_model_module": "@jupyter-widgets/controls",
            "_model_module_version": "1.5.0",
            "_model_name": "FloatProgressModel",
            "_view_count": null,
            "_view_module": "@jupyter-widgets/controls",
            "_view_module_version": "1.5.0",
            "_view_name": "ProgressView",
            "bar_style": "success",
            "description": "",
            "description_tooltip": null,
            "layout": "IPY_MODEL_d5a60e319fe141ef9c113b56b517d23b",
            "max": 1000,
            "min": 0,
            "orientation": "horizontal",
            "style": "IPY_MODEL_ed104df91ebf4a2c8ba7dce88ca6cbb1",
            "value": 1000
          }
        },
        "d58c007f24e342bf9a72a61aa68d939e": {
          "model_module": "@jupyter-widgets/controls",
          "model_module_version": "1.5.0",
          "model_name": "ProgressStyleModel",
          "state": {
            "_model_module": "@jupyter-widgets/controls",
            "_model_module_version": "1.5.0",
            "_model_name": "ProgressStyleModel",
            "_view_count": null,
            "_view_module": "@jupyter-widgets/base",
            "_view_module_version": "1.2.0",
            "_view_name": "StyleView",
            "bar_color": null,
            "description_width": ""
          }
        },
        "d5a60e319fe141ef9c113b56b517d23b": {
          "model_module": "@jupyter-widgets/base",
          "model_module_version": "1.2.0",
          "model_name": "LayoutModel",
          "state": {
            "_model_module": "@jupyter-widgets/base",
            "_model_module_version": "1.2.0",
            "_model_name": "LayoutModel",
            "_view_count": null,
            "_view_module": "@jupyter-widgets/base",
            "_view_module_version": "1.2.0",
            "_view_name": "LayoutView",
            "align_content": null,
            "align_items": null,
            "align_self": null,
            "border": null,
            "bottom": null,
            "display": null,
            "flex": null,
            "flex_flow": null,
            "grid_area": null,
            "grid_auto_columns": null,
            "grid_auto_flow": null,
            "grid_auto_rows": null,
            "grid_column": null,
            "grid_gap": null,
            "grid_row": null,
            "grid_template_areas": null,
            "grid_template_columns": null,
            "grid_template_rows": null,
            "height": null,
            "justify_content": null,
            "justify_items": null,
            "left": null,
            "margin": null,
            "max_height": null,
            "max_width": null,
            "min_height": null,
            "min_width": null,
            "object_fit": null,
            "object_position": null,
            "order": null,
            "overflow": null,
            "overflow_x": null,
            "overflow_y": null,
            "padding": null,
            "right": null,
            "top": null,
            "visibility": null,
            "width": null
          }
        },
        "e7b56a91b88c4409a80e9f82174fd418": {
          "model_module": "@jupyter-widgets/controls",
          "model_module_version": "1.5.0",
          "model_name": "HTMLModel",
          "state": {
            "_dom_classes": [],
            "_model_module": "@jupyter-widgets/controls",
            "_model_module_version": "1.5.0",
            "_model_name": "HTMLModel",
            "_view_count": null,
            "_view_module": "@jupyter-widgets/controls",
            "_view_module_version": "1.5.0",
            "_view_name": "HTMLView",
            "description": "",
            "description_tooltip": null,
            "layout": "IPY_MODEL_451267f6120b426bb091554646e83029",
            "placeholder": "​",
            "style": "IPY_MODEL_3d63b62df9e94f3cbbee5976d79c9955",
            "value": "Epochs completed: 100%| "
          }
        },
        "e83c88bd375f4123bac195513a9120db": {
          "model_module": "@jupyter-widgets/controls",
          "model_module_version": "1.5.0",
          "model_name": "ProgressStyleModel",
          "state": {
            "_model_module": "@jupyter-widgets/controls",
            "_model_module_version": "1.5.0",
            "_model_name": "ProgressStyleModel",
            "_view_count": null,
            "_view_module": "@jupyter-widgets/base",
            "_view_module_version": "1.2.0",
            "_view_name": "StyleView",
            "bar_color": null,
            "description_width": ""
          }
        },
        "ed104df91ebf4a2c8ba7dce88ca6cbb1": {
          "model_module": "@jupyter-widgets/controls",
          "model_module_version": "1.5.0",
          "model_name": "ProgressStyleModel",
          "state": {
            "_model_module": "@jupyter-widgets/controls",
            "_model_module_version": "1.5.0",
            "_model_name": "ProgressStyleModel",
            "_view_count": null,
            "_view_module": "@jupyter-widgets/base",
            "_view_module_version": "1.2.0",
            "_view_name": "StyleView",
            "bar_color": null,
            "description_width": ""
          }
        },
        "f0f87fe8ff9d42338f4f9a98c19a5155": {
          "model_module": "@jupyter-widgets/controls",
          "model_module_version": "1.5.0",
          "model_name": "HTMLModel",
          "state": {
            "_dom_classes": [],
            "_model_module": "@jupyter-widgets/controls",
            "_model_module_version": "1.5.0",
            "_model_name": "HTMLModel",
            "_view_count": null,
            "_view_module": "@jupyter-widgets/controls",
            "_view_module_version": "1.5.0",
            "_view_name": "HTMLView",
            "description": "",
            "description_tooltip": null,
            "layout": "IPY_MODEL_cdf674d73c0b411fab65789b0dbb6534",
            "placeholder": "​",
            "style": "IPY_MODEL_9251bcecf47e4ab8abc3f94a13370ad6",
            "value": " 1000/1000 [00:17]"
          }
        }
      }
    }
  },
  "nbformat": 4,
  "nbformat_minor": 5
}
